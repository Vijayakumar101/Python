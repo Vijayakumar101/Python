{
 "cells": [
  {
   "cell_type": "code",
   "execution_count": null,
   "id": "5c533a36",
   "metadata": {},
   "outputs": [],
   "source": [
    "a=float(2)\n",
    "print(a)\n",
    "print(type(a))\n",
    "print(type(int(a)))\n",
    "print(type(int()))"
   ]
  },
  {
   "cell_type": "code",
   "execution_count": null,
   "id": "4ffc5fe7",
   "metadata": {},
   "outputs": [],
   "source": [
    "t=input([6,6])\n",
    "\n",
    "s=type(int(t))\n",
    "print(s)\n",
    "type(s)"
   ]
  },
  {
   "cell_type": "code",
   "execution_count": null,
   "id": "af5f1c7a",
   "metadata": {},
   "outputs": [],
   "source": [
    "g=input()\n",
    "\n",
    "\n",
    "if isinstance(g,int):\n",
    "    print(\"int\")\n",
    "elif isinstance(g,str):\n",
    "    print(\"str\")\n",
    "elif isinstance(g,float):\n",
    "    print(\"float\")\n",
    "else:\n",
    "    print('nk')\n",
    "    "
   ]
  },
  {
   "cell_type": "code",
   "execution_count": null,
   "id": "08207706",
   "metadata": {},
   "outputs": [],
   "source": [
    "i = 1\n",
    "while i < 6:\n",
    "  print(i)\n",
    "  i += 3"
   ]
  },
  {
   "cell_type": "code",
   "execution_count": null,
   "id": "81a836b5",
   "metadata": {},
   "outputs": [],
   "source": [
    "i = 1\n",
    "while i < 6:\n",
    "  print(i)\n",
    "  if i == 3:\n",
    "    break\n",
    "  i += 3"
   ]
  },
  {
   "cell_type": "code",
   "execution_count": null,
   "id": "25ca78b5",
   "metadata": {},
   "outputs": [],
   "source": [
    "fruits = [\"apple\", \"banana\", \"cherry\"]\n",
    "for x in fruits:\n",
    "  print(x)"
   ]
  },
  {
   "cell_type": "code",
   "execution_count": null,
   "id": "32782a41",
   "metadata": {},
   "outputs": [],
   "source": [
    "\n",
    "f=3\n",
    "d=8\n",
    "g=f>d\n",
    "if type(g)==str:\n",
    "    print(\"str\")\n",
    "    print(len(g)*2)\n",
    "elif type(g)== int:\n",
    "    print(\"int\")\n",
    "    print(len(str(g))*3)\n",
    "elif type(g)== float:\n",
    "    print(\"float\")\n",
    "    print(len(str(g))*4)\n",
    "elif type(g)==list:\n",
    "    print(\"list\")\n",
    "    print(len(g)*5)\n",
    "elif type(g)== tuple:\n",
    "    print(\"tuple\")\n",
    "    print(len(g)*6)\n",
    "elif type(g)==bool:#false len5 true len 4\n",
    "    print(\"bool\")\n",
    "    print(g)\n",
    "    print(len(str(g))*1)\n",
    "elif type(g)==dict:\n",
    "    print(\"dictionary\")\n",
    "    print(len(g)*8)\n",
    "elif type(g)== set:\n",
    "    print(\"set\")\n",
    "    print(len(g)*9)\n",
    "else:\n",
    "    print(\"not data type\")\n",
    "\n"
   ]
  },
  {
   "cell_type": "code",
   "execution_count": null,
   "id": "5466c4c6",
   "metadata": {},
   "outputs": [],
   "source": [
    "pwd"
   ]
  },
  {
   "cell_type": "code",
   "execution_count": null,
   "id": "f45303d1",
   "metadata": {},
   "outputs": [],
   "source": [
    "##FILE HANLING IN PYTHON"
   ]
  },
  {
   "cell_type": "code",
   "execution_count": null,
   "id": "0f4b22dd",
   "metadata": {},
   "outputs": [],
   "source": [
    "pwd # used for find location path in windows and in linux CD used"
   ]
  },
  {
   "cell_type": "code",
   "execution_count": null,
   "id": "6090a9a9",
   "metadata": {},
   "outputs": [],
   "source": [
    "vijay=open('vk.txt')"
   ]
  },
  {
   "cell_type": "code",
   "execution_count": null,
   "id": "8fe4816d",
   "metadata": {},
   "outputs": [],
   "source": [
    "vijay.read() #read all texts to end"
   ]
  },
  {
   "cell_type": "code",
   "execution_count": null,
   "id": "28d84723",
   "metadata": {},
   "outputs": [],
   "source": [
    "vijay.seek(0)#Again read in first"
   ]
  },
  {
   "cell_type": "code",
   "execution_count": null,
   "id": "53a644be",
   "metadata": {},
   "outputs": [],
   "source": [
    "vijay.readlines()"
   ]
  },
  {
   "cell_type": "code",
   "execution_count": null,
   "id": "60765187",
   "metadata": {},
   "outputs": [],
   "source": [
    "#3 modes in file 'r'read w write a append"
   ]
  },
  {
   "cell_type": "code",
   "execution_count": null,
   "id": "63015af3",
   "metadata": {},
   "outputs": [],
   "source": [
    "jk=open('vk.txt')\n",
    "\n",
    "jk.write('hghj')\n",
    "jk.close()\n",
    "`jk.open('vk.txt','w+')\n",
    "jk.write('hai')"
   ]
  },
  {
   "cell_type": "code",
   "execution_count": null,
   "id": "ae8231de",
   "metadata": {},
   "outputs": [],
   "source": [
    "g=open('hk.txt')\n",
    "g.seek(0)\n",
    "g.read()\n",
    "g.close()"
   ]
  },
  {
   "cell_type": "code",
   "execution_count": null,
   "id": "f4070c87",
   "metadata": {},
   "outputs": [],
   "source": [
    "h=open('hk.txt','w+')\n",
    "h.write('hjj')\n",
    "h.seek(0)\n",
    "h.read()\n",
    "h.close()"
   ]
  },
  {
   "cell_type": "code",
   "execution_count": null,
   "id": "00cf12df",
   "metadata": {},
   "outputs": [],
   "source": [
    "a=open('hk.txt','a+')#a+ is append andread w+ is write and read\n",
    "a.write('\\n food')\n",
    "a.seek(0)\n",
    "a.read()"
   ]
  },
  {
   "cell_type": "code",
   "execution_count": null,
   "id": "feb22249",
   "metadata": {},
   "outputs": [],
   "source": [
    "#openpyxl csv oswalk"
   ]
  },
  {
   "cell_type": "code",
   "execution_count": null,
   "id": "af24d75f",
   "metadata": {},
   "outputs": [],
   "source": [
    "s=open('other.txt','w+')\n",
    "s.write('gh')\n",
    "s.seek(0)\n",
    "s.read()                 \n",
    "pwd"
   ]
  },
  {
   "cell_type": "code",
   "execution_count": null,
   "id": "8d923b68",
   "metadata": {},
   "outputs": [],
   "source": []
  },
  {
   "cell_type": "code",
   "execution_count": null,
   "id": "cd8c596d",
   "metadata": {},
   "outputs": [],
   "source": []
  },
  {
   "cell_type": "code",
   "execution_count": null,
   "id": "1ae08915",
   "metadata": {},
   "outputs": [],
   "source": []
  },
  {
   "cell_type": "code",
   "execution_count": null,
   "id": "aec09f43",
   "metadata": {},
   "outputs": [],
   "source": []
  },
  {
   "cell_type": "code",
   "execution_count": null,
   "id": "80c475c3",
   "metadata": {},
   "outputs": [],
   "source": []
  },
  {
   "cell_type": "code",
   "execution_count": null,
   "id": "5acd0ed0",
   "metadata": {},
   "outputs": [],
   "source": [
    "x=range(6)\n",
    "print(x)"
   ]
  },
  {
   "cell_type": "code",
   "execution_count": null,
   "id": "0aeac29a",
   "metadata": {},
   "outputs": [],
   "source": [
    "x = frozenset({\"apple\", \"banana\", \"cherry\"})\n",
    "x\n"
   ]
  },
  {
   "cell_type": "code",
   "execution_count": null,
   "id": "6f2716b3",
   "metadata": {},
   "outputs": [],
   "source": [
    "d=b'jkl'\n",
    "d\n",
    "s=bytes(d)\n",
    "print(s)"
   ]
  },
  {
   "cell_type": "code",
   "execution_count": null,
   "id": "d29bd2a9",
   "metadata": {},
   "outputs": [],
   "source": [
    "f=bytearray(3)\n",
    "print(f)\n",
    "s=bytes(f)\n",
    "print(s)"
   ]
  },
  {
   "cell_type": "code",
   "execution_count": null,
   "id": "ee9c7536",
   "metadata": {},
   "outputs": [],
   "source": [
    "v=\n",
    "for n in \"banana\":\n",
    "  print(n)"
   ]
  },
  {
   "cell_type": "code",
   "execution_count": null,
   "id": "d1852f03",
   "metadata": {},
   "outputs": [],
   "source": [
    "fruits = [\"apple\", \"banana\", \"cherry\"]\n",
    "for x in fruits:\n",
    "  print(x)"
   ]
  },
  {
   "cell_type": "code",
   "execution_count": null,
   "id": "024d6ef1",
   "metadata": {},
   "outputs": [],
   "source": [
    "fruits = [\"apple\", \"banana\", \"cherry\",'org','app']\n",
    "for x in fruits:\n",
    "  if x == \"cherry\":\n",
    "             break\n",
    "  print(x)\n",
    "    \n",
    "   "
   ]
  },
  {
   "cell_type": "code",
   "execution_count": null,
   "id": "3181eee3",
   "metadata": {},
   "outputs": [],
   "source": [
    "for x in range(2, 30, 3):\n",
    "  print(x)"
   ]
  },
  {
   "cell_type": "code",
   "execution_count": null,
   "id": "a999a247",
   "metadata": {},
   "outputs": [],
   "source": [
    "for x in range(6):\n",
    "  print(x)\n",
    "else:\n",
    "  print(\"Finally finished!\")"
   ]
  },
  {
   "cell_type": "code",
   "execution_count": null,
   "id": "6f7927a0",
   "metadata": {},
   "outputs": [],
   "source": [
    "for x in range(6):\n",
    "  if x == 3:\n",
    "    break\n",
    "  print(x)\n",
    "else:\n",
    "  print(\"Finally finished!\")"
   ]
  },
  {
   "cell_type": "code",
   "execution_count": null,
   "id": "fff95abe",
   "metadata": {},
   "outputs": [],
   "source": [
    "for x in [0, 1, 2]:\n",
    "  pass\n",
    "print(x)"
   ]
  },
  {
   "cell_type": "code",
   "execution_count": null,
   "id": "1bbfb7fc",
   "metadata": {},
   "outputs": [],
   "source": []
  },
  {
   "cell_type": "code",
   "execution_count": null,
   "id": "c287b849",
   "metadata": {},
   "outputs": [],
   "source": [
    "x = lambda a : a + 10\n",
    "print(x(5))"
   ]
  },
  {
   "cell_type": "code",
   "execution_count": null,
   "id": "366f062e",
   "metadata": {},
   "outputs": [],
   "source": [
    "b = \"Hello, World!\"\n",
    "print(b[:5])\n",
    "b = \"Hello, World!\"\n",
    "print(b[2:])\n",
    "a = \"Hello, World!\"\n",
    "print(a.lower())\n",
    "s=a[0:5].capitalize()\n",
    "print(s)\n",
    "\n",
    "\n",
    "a = \"Hello, World!\"\n",
    "print(a.split(\",\")) # returns ['Hello', ' World!']\n",
    "type(a)"
   ]
  },
  {
   "cell_type": "code",
   "execution_count": null,
   "id": "6f74cee0",
   "metadata": {},
   "outputs": [],
   "source": [
    "a = \"Hello World!\"\n",
    "print(a.encode())"
   ]
  },
  {
   "cell_type": "code",
   "execution_count": null,
   "id": "7aeed8a1",
   "metadata": {},
   "outputs": [],
   "source": [
    "f = open(\"vk.txt\", \"rt\")\n",
    "print(f.read(11))\n"
   ]
  },
  {
   "cell_type": "code",
   "execution_count": null,
   "id": "f09a71a7",
   "metadata": {},
   "outputs": [],
   "source": [
    "f = open(\"vk.txt\", \"a\")\n",
    "print(f.write('good morning'))\n",
    "f.close()\n",
    "        \n",
    "d=open(\"vk.txt\")\n",
    "d.readlines()\n",
    "    \n",
    "   "
   ]
  },
  {
   "cell_type": "code",
   "execution_count": null,
   "id": "b82902a2",
   "metadata": {},
   "outputs": [],
   "source": [
    "f = open(\"vk.txt\", \"w\")\n",
    "f.write(\"Woops! I have deleted the content!\")\n",
    "f.close()\n",
    "\n",
    "#open and read the file after the overwriting:\n",
    "f = open(\"vk.txt\", \"r\")\n",
    "print(f.read())"
   ]
  },
  {
   "cell_type": "code",
   "execution_count": null,
   "id": "ef18ab79",
   "metadata": {},
   "outputs": [],
   "source": [
    "file=open('newvk.txt','x')\n",
    "file.close('newvk.txt')\n",
    "g=open('newvk.txt',\"a\")\n",
    "g.write('Woops! I have content!')\n",
    "g.close('newvk.txt')\n",
    "k=open('newvk.txt',\"r\")\n",
    "print(k.read('newvk.txt'))\n"
   ]
  },
  {
   "cell_type": "code",
   "execution_count": 1,
   "id": "15041f3b",
   "metadata": {},
   "outputs": [
    {
     "name": "stdout",
     "output_type": "stream",
     "text": [
      "The file does not exist\n"
     ]
    }
   ],
   "source": [
    "import os\n",
    "if os.path.exists(\"vk.txt\"):\n",
    "  os.remove(\"vk.txt\")\n",
    "else:\n",
    "  print(\"The file does not exist\")"
   ]
  },
  {
   "cell_type": "code",
   "execution_count": null,
   "id": "da51fd89",
   "metadata": {},
   "outputs": [],
   "source": [
    "def my_function(fname):\n",
    "  print(fname + \" Refsnes\")\n",
    "\n",
    "my_function(\"Emil\")\n",
    "my_function(\"Tobias\")\n",
    "my_function(\"Linus\")"
   ]
  },
  {
   "cell_type": "code",
   "execution_count": null,
   "id": "f3f7efc3",
   "metadata": {},
   "outputs": [],
   "source": [
    "def my_function(fname, lname):\n",
    "  print(fname + \"  \" + lname)\n",
    "\n",
    "my_function(\"Emil\", \"Refsnes\")"
   ]
  },
  {
   "cell_type": "code",
   "execution_count": null,
   "id": "2bff3ba8",
   "metadata": {},
   "outputs": [],
   "source": [
    "## for loop "
   ]
  },
  {
   "cell_type": "code",
   "execution_count": null,
   "id": "1313c68d",
   "metadata": {},
   "outputs": [],
   "source": [
    "g=[1,'f','h']\n",
    "print(g*2)\n",
    "for d in g:           #iterate the values\n",
    "    print(d*2)\n",
    "print(d*5,end='')\n",
    "print(g*3)\n",
    "    "
   ]
  },
  {
   "cell_type": "code",
   "execution_count": null,
   "id": "89819b4f",
   "metadata": {},
   "outputs": [],
   "source": [
    "f=[0]\n",
    "x=1\n",
    "for h in f:\n",
    "    h=h+x\n",
    "print(h)\n"
   ]
  },
  {
   "cell_type": "code",
   "execution_count": null,
   "id": "4791498a",
   "metadata": {},
   "outputs": [],
   "source": [
    "t=0\n",
    "for i in t:\n",
    "    if i<6:\n",
    "        print(i\n",
    "             )\n",
    "    "
   ]
  },
  {
   "cell_type": "code",
   "execution_count": null,
   "id": "689f4985",
   "metadata": {},
   "outputs": [],
   "source": [
    "g={'i':'o','j':'p','k':'q'}\n",
    "for i,j in g.items():\n",
    "    print(i,'is key',j,'is value')"
   ]
  },
  {
   "cell_type": "code",
   "execution_count": null,
   "id": "48c31168",
   "metadata": {},
   "outputs": [],
   "source": [
    "g={'i':1,'j':2,'k':3}\n",
    "print(g.items())\n",
    "for i,j in g.items():\n",
    "    print(i,'is key',j,'is value')"
   ]
  },
  {
   "cell_type": "code",
   "execution_count": null,
   "id": "f06f1e35",
   "metadata": {},
   "outputs": [],
   "source": [
    "u='t'\n",
    "type(u)"
   ]
  },
  {
   "cell_type": "code",
   "execution_count": null,
   "id": "5fe59722",
   "metadata": {},
   "outputs": [],
   "source": [
    "b=input()\n",
    "print(type(b))\n",
    "if b>='A' and b<='Z':\n",
    "    print(b.lower())\n",
    "else:\n",
    "    print(b.upper())"
   ]
  },
  {
   "cell_type": "code",
   "execution_count": null,
   "id": "46c10621",
   "metadata": {},
   "outputs": [],
   "source": [
    "a=int(input())\n",
    "b=int(input())\n",
    "c=int(input())\n",
    "if a>b and a>c:\n",
    "    print('a')\n",
    "elif b>a and b>c:\n",
    "    print('b')\n",
    "else:\n",
    "    print('c')"
   ]
  },
  {
   "cell_type": "code",
   "execution_count": null,
   "id": "40876f28",
   "metadata": {},
   "outputs": [],
   "source": [
    "c=int(input())\n",
    "if c==1:\n",
    "    print('monday')\n",
    "elif c==2 or c== 3:\n",
    "    print('t','w')\n",
    "elif c==4 or c== 5:\n",
    "    print('th','f')\n",
    "elif c==6 or c==7:\n",
    "    print('s','su')\n",
    "    "
   ]
  },
  {
   "cell_type": "code",
   "execution_count": null,
   "id": "7f3b503d",
   "metadata": {},
   "outputs": [],
   "source": [
    "D=[1,4,3,6,7]\n",
    "for i in D:\n",
    "    if i%2==0:\n",
    "        print(i,'even')\n",
    "    else:\n",
    "        print(i,'odd')"
   ]
  },
  {
   "cell_type": "code",
   "execution_count": null,
   "id": "3d18bd97",
   "metadata": {},
   "outputs": [],
   "source": [
    "a=[3,5,6,15,18,20,21]\n",
    "for d in a:\n",
    "    if d%5==0 and d%3==0:\n",
    "        print(d,'fizzbuzz')\n",
    "    elif d%3==0:\n",
    "        print(d,'fizz')\n",
    "    elif d%5==0:\n",
    "        print(d,'buzz')\n",
    "        "
   ]
  },
  {
   "cell_type": "code",
   "execution_count": null,
   "id": "993dcde4",
   "metadata": {},
   "outputs": [],
   "source": [
    "c={'k1':1,'k2':2,'k3':3}\n",
    "g=c.items()\n",
    "print(g)\n",
    "d=[]\n",
    "f=[]\n",
    "for i,j in g :\n",
    "    f.append(j)\n",
    "    d.append(i)\n",
    "print(d)\n",
    "print(f)\n",
    "    "
   ]
  },
  {
   "cell_type": "code",
   "execution_count": null,
   "id": "ac75c955",
   "metadata": {},
   "outputs": [],
   "source": [
    "b=input()\n",
    "\n",
    "for a in b:\n",
    "    \n",
    "    if  a=='a' or a=='u' or a=='i' or a=='o' or a=='i':\n",
    "        print(a,'v')\n",
    "    else:\n",
    "        print(a,'c')"
   ]
  },
  {
   "cell_type": "code",
   "execution_count": null,
   "id": "44c2fa1d",
   "metadata": {},
   "outputs": [],
   "source": [
    "b=input()\n",
    "if (b.isdigit()):\n",
    "   \n",
    "    print('d')\n",
    "if b.isspace():\n",
    "    print('s')\n",
    "print(b)"
   ]
  },
  {
   "cell_type": "code",
   "execution_count": null,
   "id": "54370913",
   "metadata": {},
   "outputs": [],
   "source": [
    "# while loop\n",
    "\n",
    "s=0\n",
    "while s<10:\n",
    "    print('s',s)\n",
    "    s+=1\n",
    "    print(s)\n",
    "else:\n",
    "    print('s >10 so broked')"
   ]
  },
  {
   "cell_type": "code",
   "execution_count": null,
   "id": "7a26a8af",
   "metadata": {},
   "outputs": [],
   "source": [
    "d=1\n",
    "\n",
    "\n",
    "            # s=True\n",
    "while True:\n",
    "    d+=1\n",
    "    print(d)\n",
    "    if d==6:\n",
    "        break #s=False\n",
    "      \n",
    "     \n"
   ]
  },
  {
   "cell_type": "code",
   "execution_count": null,
   "id": "72db0d35",
   "metadata": {},
   "outputs": [],
   "source": [
    "y=0\n",
    "while y<10:\n",
    "    print(y)\n",
    "    y=y+1\n",
    "    if y==4:\n",
    "        pass # not affecting the code running\n",
    "    elif y==6:\n",
    "        continue # continue again in while loop \n",
    "        print('haii')\n",
    "        \n",
    "    elif y==7:\n",
    "        break\n",
    "    print('hi')\n",
    "else:\n",
    "    pass\n",
    " "
   ]
  },
  {
   "cell_type": "code",
   "execution_count": null,
   "id": "4409d58a",
   "metadata": {},
   "outputs": [],
   "source": [
    "## Funcions\n",
    "\n",
    "def amount(a):\n",
    "\n",
    "    \n",
    "    return('tax_amount for',a,(a*18/100))\n",
    "amount(1000)"
   ]
  },
  {
   "cell_type": "code",
   "execution_count": null,
   "id": "3a4923b2",
   "metadata": {},
   "outputs": [],
   "source": [
    "def artur(a,b):\n",
    "    return(a+b)\n",
    "artur(2,4)"
   ]
  },
  {
   "cell_type": "code",
   "execution_count": null,
   "id": "dff529bd",
   "metadata": {},
   "outputs": [],
   "source": [
    "D=[('ket',100),('hat',200),('gat',300)]\n",
    "\n",
    "def max_hours(h):\n",
    "    current hours=0\n",
    "    "
   ]
  },
  {
   "cell_type": "code",
   "execution_count": null,
   "id": "d0a7637e",
   "metadata": {},
   "outputs": [],
   "source": [
    "x=-2\n",
    "\n",
    "if x>0:\n",
    "    x+=1\n",
    "else:\n",
    "    print(x)"
   ]
  },
  {
   "cell_type": "code",
   "execution_count": null,
   "id": "2a4b8d7a",
   "metadata": {},
   "outputs": [],
   "source": [
    "for i in range(2000,2050):\n",
    "    if i%4==0:\n",
    "        print(i,'leap')"
   ]
  },
  {
   "cell_type": "code",
   "execution_count": null,
   "id": "f03d2e71",
   "metadata": {},
   "outputs": [],
   "source": [
    "\n",
    "i=0\n",
    "\n",
    "\n",
    "while i<12:\n",
    "    print('*',end='-')\n",
    "    i+=\n",
    "print"
   ]
  },
  {
   "cell_type": "code",
   "execution_count": null,
   "id": "821f8aec",
   "metadata": {},
   "outputs": [],
   "source": [
    "m=int(input())\n",
    "n=int(input())\n",
    "a=0\n",
    "while m<=n:\n",
    "    a+=m\n",
    "    \n",
    "    m+=1\n",
    "print(a)\n"
   ]
  },
  {
   "cell_type": "code",
   "execution_count": null,
   "id": "1418b63b",
   "metadata": {},
   "outputs": [],
   "source": [
    "p=N=z=0\n",
    "while True:\n",
    "    n=int(input())\n",
    "    if n==-1:\n",
    "        break\n",
    "    elif n==0:\n",
    "        z+=1\n",
    "    elif n>0:\n",
    "        p+=1\n",
    "    else:\n",
    "        N+=1\n",
    "print(p,N,z)"
   ]
  },
  {
   "cell_type": "code",
   "execution_count": null,
   "id": "8db446d7",
   "metadata": {},
   "outputs": [],
   "source": [
    "print(3.71%10)"
   ]
  },
  {
   "cell_type": "code",
   "execution_count": null,
   "id": "40a072f0",
   "metadata": {},
   "outputs": [],
   "source": [
    "a=input()\n",
    "if a.isupper():\n",
    "    b=a.lower()\n",
    "    print(b)\n",
    "else:\n",
    "    c=a.upper()\n",
    "    print(c)"
   ]
  },
  {
   "cell_type": "code",
   "execution_count": null,
   "id": "0d3a1881",
   "metadata": {},
   "outputs": [],
   "source": [
    "sal=int(input())\n",
    "sex=input()\n",
    "if sal<10000 and sex=='m':\n",
    "    s1=sal*0.07\n",
    "    print('bonus',s1)\n",
    "elif sal<10000 and sex=='f'or'F':\n",
    "    s12=sal*0.12\n",
    "    print('bonus',s12)\n",
    "elif sex=='f':\n",
    "    s2=sal*0.1\n",
    "    print('bonus',s2)\n",
    "else:\n",
    "    s21=sal+sal*0.05\n",
    "    print('bonus',s21)\n",
    "    \n",
    "    \n",
    "    "
   ]
  },
  {
   "cell_type": "code",
   "execution_count": null,
   "id": "618cf179",
   "metadata": {},
   "outputs": [],
   "source": [
    "a=input()\n",
    "if  (a=='a'or a=='i'or a=='o'or a=='e'or a=='u'):\n",
    "    print ('vowel')\n",
    "else:\n",
    "    print('consonennt')\n",
    "    "
   ]
  },
  {
   "cell_type": "code",
   "execution_count": null,
   "id": "739b5105",
   "metadata": {},
   "outputs": [],
   "source": [
    "h=0\n",
    "s=0\n",
    "while h<10:\n",
    "    h+=1\n",
    "    s+=h\n",
    "print(s)\n",
    "print('avg',s/10)\n",
    "   "
   ]
  },
  {
   "cell_type": "code",
   "execution_count": null,
   "id": "ce107d06",
   "metadata": {},
   "outputs": [],
   "source": [
    "i=0\n",
    "while i<=20:\n",
    "    i+=1\n",
    "    print(i,end=\" \")\n",
    "   "
   ]
  },
  {
   "cell_type": "code",
   "execution_count": null,
   "id": "5a8cd518",
   "metadata": {},
   "outputs": [],
   "source": [
    "j=input()\n",
    "m=int(j[0])\n",
    "n=int(j[-1])\n",
    "h=0\n",
    "\n",
    "while m<=n:\n",
    "    \n",
    "    h=m+h\n",
    "    m+=1\n",
    "print(h)\n",
    "    "
   ]
  },
  {
   "cell_type": "code",
   "execution_count": null,
   "id": "e09387aa",
   "metadata": {},
   "outputs": [],
   "source": [
    "u=0\n",
    "l=0\n",
    "while True:\n",
    "    a=input()\n",
    "    if a=='a'or a=='A':\n",
    "        print('finded')\n",
    "        break\n",
    "    elif a>'a' and a<'z':\n",
    "        l=l+1\n",
    "                \n",
    "    elif a>'A' and a<'Z':\n",
    "     \n",
    "        u=1+u\n",
    "    \n",
    "print('l',l)\n",
    "print('u',l)"
   ]
  },
  {
   "cell_type": "code",
   "execution_count": null,
   "id": "6a09e106",
   "metadata": {},
   "outputs": [],
   "source": [
    "\n",
    "i=int(input())\n",
    "s=0\n",
    "while i>0:\n",
    "    s=s+i\n",
    "    i=i-1;\n",
    "    \n",
    "print(s)\n"
   ]
  },
  {
   "cell_type": "code",
   "execution_count": null,
   "id": "d621a6a7",
   "metadata": {},
   "outputs": [],
   "source": [
    "n=input()\n",
    "d=0\n",
    "for i in n:\n",
    "    d=int(i)+d\n",
    "print(d)\n"
   ]
  },
  {
   "cell_type": "code",
   "execution_count": null,
   "id": "67d5c1a0",
   "metadata": {},
   "outputs": [],
   "source": [
    "i=int(input())\n",
    "d=str(i)\n",
    "print(d[::-1])"
   ]
  },
  {
   "cell_type": "code",
   "execution_count": null,
   "id": "827c1cf0",
   "metadata": {},
   "outputs": [],
   "source": [
    "def squareroot(n):\n",
    "    return n**0.5\n",
    "d=[1,2,3,4,5]\n",
    "list(map(squareroot,d))"
   ]
  },
  {
   "cell_type": "code",
   "execution_count": null,
   "id": "47dc2072",
   "metadata": {},
   "outputs": [],
   "source": [
    "def s(n):\n",
    "    if len(n)%2==0:\n",
    "        return 'even'\n",
    "    else:\n",
    "        return n[0]\n",
    "g=['ed','gh','goo']\n",
    "list(map(s,g))"
   ]
  },
  {
   "cell_type": "code",
   "execution_count": null,
   "id": "1c59754d",
   "metadata": {},
   "outputs": [],
   "source": [
    "list(filter(s,d))"
   ]
  },
  {
   "cell_type": "code",
   "execution_count": null,
   "id": "8e8b2850",
   "metadata": {},
   "outputs": [],
   "source": [
    "\n",
    "\n",
    "list(map(lambda x:x**2,d))"
   ]
  },
  {
   "cell_type": "code",
   "execution_count": null,
   "id": "c25f6a1d",
   "metadata": {},
   "outputs": [],
   "source": [
    "lambda x,y:x+y\n",
    "add=lambda x,y:x+y\n",
    "add(2,5)"
   ]
  },
  {
   "cell_type": "code",
   "execution_count": null,
   "id": "cb3c80cf",
   "metadata": {},
   "outputs": [],
   "source": [
    "def n(*h):\n",
    "    return max(h)\n",
    "print(n(1,2,3,345.5,55))\n",
    "n('sd','fg','sd')"
   ]
  },
  {
   "cell_type": "code",
   "execution_count": null,
   "id": "bd2c1e84",
   "metadata": {},
   "outputs": [],
   "source": [
    "def md(*args,**kwargs):\n",
    "    return(f'food is{args['d']} and juice is{kwargs['g']})\n",
    "           "
   ]
  },
  {
   "cell_type": "code",
   "execution_count": null,
   "id": "0577cb56",
   "metadata": {},
   "outputs": [],
   "source": [
    "\n",
    "def my_function(child3, child2, child1):\n",
    "  print(\"The youngest child is \"+child3)\n",
    "\n",
    "my_function(child1 = \"Emil\", child2 = \"Tobias\", child3 = \"Linus\")"
   ]
  },
  {
   "cell_type": "code",
   "execution_count": null,
   "id": "6e7b2919",
   "metadata": {},
   "outputs": [],
   "source": [
    "def my_function(country = \"Norway\"):\n",
    "  print(\"I am from \" + country)\n",
    "\n",
    "my_function(\"Sweden\")\n",
    "my_function(\"India\")"
   ]
  },
  {
   "cell_type": "code",
   "execution_count": null,
   "id": "30a74a7c",
   "metadata": {},
   "outputs": [],
   "source": [
    "def my_function(food):\n",
    "  for x in food:\n",
    "    print(x)\n",
    "\n",
    "fruits = [\"apple\", \"banana\", \"cherry\"]\n",
    "\n",
    "my_function(fruits)"
   ]
  },
  {
   "cell_type": "code",
   "execution_count": null,
   "id": "de6e0a16",
   "metadata": {},
   "outputs": [],
   "source": [
    "try:\n",
    "    f=open('other.txt','r')\n",
    "    f.write('hai')\n",
    "except IOError:\n",
    "    print('file is read mode,change write mode')\n",
    "    f.close()\n",
    "    f=open('other.txt','w')\n",
    "    f.write('hai')\n",
    "    f.close()\n",
    "else:\n",
    "    print('written successfully')\n",
    "finally:\n",
    "    print('you got it')"
   ]
  },
  {
   "cell_type": "code",
   "execution_count": null,
   "id": "ab43b9b6",
   "metadata": {},
   "outputs": [],
   "source": [
    "pwd('other.txt')"
   ]
  },
  {
   "cell_type": "code",
   "execution_count": null,
   "id": "6a827ab3",
   "metadata": {},
   "outputs": [],
   "source": [
    "for i in range(6,-1,-2):\n",
    "    print(i,end='')"
   ]
  },
  {
   "cell_type": "code",
   "execution_count": null,
   "id": "bc989a54",
   "metadata": {},
   "outputs": [],
   "source": [
    "sd=int(input())\n",
    "d=int(input())\n",
    "for i in range(sd):\n",
    "    print(i,end='')"
   ]
  },
  {
   "cell_type": "code",
   "execution_count": null,
   "id": "bd16a88b",
   "metadata": {},
   "outputs": [],
   "source": [
    "a=open('other.txt','w+')\n",
    "a.write('hai iam vijayakumar')\n",
    "a.close()\n",
    "d=open('other.txt','rb+')\n",
    "print(d.read())\n",
    "d.close()\n",
    "with open('other.txt','r') as s:\n",
    "    for d in s:\n",
    "        print(d)\n",
    "print(s.closed)\n",
    "d=open('other.txt','rb+')\n",
    "for s in d:\n",
    "        print(s)\n",
    "print(d.closed)\n",
    "d.close()\n",
    "print(d.closed)\n",
    "import os\n",
    "os.rename('other.txt','ok.txt')"
   ]
  },
  {
   "cell_type": "code",
   "execution_count": null,
   "id": "1a5b17d8",
   "metadata": {},
   "outputs": [],
   "source": [
    "def "
   ]
  },
  {
   "cell_type": "code",
   "execution_count": null,
   "id": "4492ecbd",
   "metadata": {},
   "outputs": [],
   "source": [
    "list1=[1,2,3,4.5]\n",
    "for i in list1:\n",
    "    \n",
    "    if i%2==0:\n",
    "         print (i,'even')\n",
    "    else:\n",
    "            \n",
    "        print (i,'odd')\n"
   ]
  },
  {
   "cell_type": "code",
   "execution_count": null,
   "id": "d92bac35",
   "metadata": {},
   "outputs": [],
   "source": [
    "while True:\n",
    "    i=int(input())"
   ]
  },
  {
   "cell_type": "code",
   "execution_count": null,
   "id": "509c2570",
   "metadata": {},
   "outputs": [],
   "source": [
    "try:\n",
    "    f=open('other.txt','w+')\n"
   ]
  },
  {
   "cell_type": "code",
   "execution_count": null,
   "id": "a34ebcbe",
   "metadata": {},
   "outputs": [],
   "source": [
    "class trail:\n",
    "    \n",
    "    def __init__(self,abc,name,age):\n",
    "        \n",
    "        self.name=name\n",
    "        print(self.name)\n",
    "        print('wlecome to class')\n",
    "        self.age=23*3\n",
    "        print(self.age)\n",
    "        for i in abc:\n",
    "            if i%2==0:\n",
    "                print(i,'even')\n",
    "            else:\n",
    "                print(i,'odd')\n",
    "    def age_func(self,age,dob):\n",
    "        self.age=age\n",
    "        print(age)\n",
    "    \n",
    "    "
   ]
  },
  {
   "cell_type": "code",
   "execution_count": null,
   "id": "d0289780",
   "metadata": {},
   "outputs": [],
   "source": [
    "a=trail([1,3,56,6],'chennai','23')"
   ]
  },
  {
   "cell_type": "code",
   "execution_count": null,
   "id": "6e6707ab",
   "metadata": {},
   "outputs": [],
   "source": [
    "a.age_func('78','rt') #a. press  tap for class"
   ]
  },
  {
   "cell_type": "code",
   "execution_count": null,
   "id": "de83986c",
   "metadata": {},
   "outputs": [],
   "source": [
    "class math:\n",
    "    def __init__(self,add1,add2):\n",
    "        self.add1=add1\n",
    "        self.add2=add2\n",
    "        if add1>0 and add2>0:\n",
    "            add=add1+add2\n",
    "            print(add)\n",
    "        print('result')\n",
    "    \n",
    "class dog:\n",
    "    def __init__(self,)\n",
    "    "
   ]
  },
  {
   "cell_type": "code",
   "execution_count": null,
   "id": "855cee0a",
   "metadata": {},
   "outputs": [],
   "source": [
    "d=math(2,3)"
   ]
  },
  {
   "cell_type": "code",
   "execution_count": null,
   "id": "f8362f2e",
   "metadata": {},
   "outputs": [],
   "source": [
    "d."
   ]
  },
  {
   "cell_type": "code",
   "execution_count": null,
   "id": "8d022e04",
   "metadata": {},
   "outputs": [],
   "source": [
    "class circle:\n",
    "   \n",
    "    def __init__(self,radius): #cirmcircle=2pir\n",
    "        self.radius=radius\n",
    "    def circumference(self):\n",
    "        return 2*3.14*self.radius\n",
    "    def area(self):\n",
    "        return 3.14*self.radius**2\n",
    "    def diameter(self):\n",
    "        return 2*self.radius\n",
    "m=circle(5)\n",
    "print('area',m.area())\n",
    "print('circumference',m.circumference())\n",
    "print('dia',m.diameter())"
   ]
  },
  {
   "cell_type": "code",
   "execution_count": null,
   "id": "ac033293",
   "metadata": {},
   "outputs": [],
   "source": [
    "class Animal:\n",
    "    def __init__(self):\n",
    "        print('animal created')\n",
    "    def who_am_i(self):\n",
    "        print('Animal')\n",
    "    def eat(self):\n",
    "        print('eating')\n",
    "class dog(Animal):\n",
    "    def __init__ (self):\n",
    "        Animal.__init__(self)\n",
    "        print('Dog created')\n",
    "    def bark(self):\n",
    "        print('wow wow')\n",
    "    def who_am_i(self):\n",
    "        print('Dog')\n",
    "class cat(Animal):\n",
    "    def __init__(self):\n",
    "        Animal.__init__(self)\n",
    "        print('Cat created')\n",
    "    def who_am_i(self):\n",
    "        print('Cat')\n",
    "    def bark(self):\n",
    "        print('meow meow')\n",
    "        "
   ]
  },
  {
   "cell_type": "code",
   "execution_count": null,
   "id": "15a4668e",
   "metadata": {},
   "outputs": [],
   "source": [
    "a=cat()\n",
    "a.who_am_i()"
   ]
  },
  {
   "cell_type": "code",
   "execution_count": null,
   "id": "eb6d37b5",
   "metadata": {},
   "outputs": [],
   "source": [
    "d=dog()\n",
    "d.bark()"
   ]
  },
  {
   "cell_type": "code",
   "execution_count": null,
   "id": "19b05f18",
   "metadata": {},
   "outputs": [],
   "source": [
    "s=Animal()\n"
   ]
  },
  {
   "cell_type": "code",
   "execution_count": null,
   "id": "2bacd0bc",
   "metadata": {},
   "outputs": [],
   "source": [
    "class Book:\n",
    "    def __init__(self,title,author,pages,words):\n",
    "        print('A book is created')\n",
    "        self.title=title\n",
    "        self.author=author\n",
    "        self.pages=pages\n",
    "        self.words=words\n",
    "    def __str__(self):\n",
    "        "
   ]
  },
  {
   "cell_type": "code",
   "execution_count": null,
   "id": "da7dedcd",
   "metadata": {},
   "outputs": [],
   "source": [
    "class Person:\n",
    "  def __init__(mysillyobject, name, age):\n",
    "    mysillyobject.name = name\n",
    "    mysillyobject.age = age\n",
    "\n",
    "  def myfunc(abc):\n",
    "    print(\"Hello my name is \" + abc.name)\n",
    "\n",
    "p1 = Person(\"John\", 36)\n",
    "p1.age"
   ]
  },
  {
   "cell_type": "code",
   "execution_count": null,
   "id": "f6c058b9",
   "metadata": {},
   "outputs": [],
   "source": [
    "p1.age = 40"
   ]
  },
  {
   "cell_type": "code",
   "execution_count": null,
   "id": "6d1dda57",
   "metadata": {},
   "outputs": [],
   "source": [
    "p1.age"
   ]
  },
  {
   "cell_type": "code",
   "execution_count": null,
   "id": "925dee41",
   "metadata": {},
   "outputs": [],
   "source": [
    "def glo(fun):\n",
    "    def loc():\n",
    "        print('hai')\n",
    "        fun()\n",
    "        print('I am')\n",
    "    return loc()\n",
    "def dec():\n",
    "    print('vijay')"
   ]
  },
  {
   "cell_type": "code",
   "execution_count": null,
   "id": "55236857",
   "metadata": {},
   "outputs": [],
   "source": [
    "dec=glo(dec)"
   ]
  },
  {
   "cell_type": "code",
   "execution_count": null,
   "id": "8db20958",
   "metadata": {},
   "outputs": [],
   "source": [
    "#a=glo(dec)\n",
    "#a()"
   ]
  },
  {
   "cell_type": "code",
   "execution_count": null,
   "id": "1883185b",
   "metadata": {},
   "outputs": [],
   "source": [
    "@dec"
   ]
  },
  {
   "cell_type": "code",
   "execution_count": null,
   "id": "81f90970",
   "metadata": {},
   "outputs": [],
   "source": [
    "def simple_gen():\n",
    "    for x in range(3):\n",
    "        yield x"
   ]
  },
  {
   "cell_type": "code",
   "execution_count": 2,
   "id": "e507028c",
   "metadata": {},
   "outputs": [
    {
     "name": "stdout",
     "output_type": "stream",
     "text": [
      "0\n",
      "1\n",
      "2\n"
     ]
    }
   ],
   "source": [
    "for x in range(3):\n",
    "        print(x)"
   ]
  },
  {
   "cell_type": "code",
   "execution_count": 7,
   "id": "3245efdd",
   "metadata": {},
   "outputs": [
    {
     "ename": "NameError",
     "evalue": "name 'simple_gen' is not defined",
     "output_type": "error",
     "traceback": [
      "\u001b[1;31m---------------------------------------------------------------------------\u001b[0m",
      "\u001b[1;31mNameError\u001b[0m                                 Traceback (most recent call last)",
      "\u001b[1;32m~\\AppData\\Local\\Temp\\ipykernel_8812\\1035290100.py\u001b[0m in \u001b[0;36m<module>\u001b[1;34m\u001b[0m\n\u001b[1;32m----> 1\u001b[1;33m \u001b[0mf\u001b[0m \u001b[1;33m=\u001b[0m \u001b[0msimple_gen\u001b[0m\u001b[1;33m(\u001b[0m\u001b[1;33m)\u001b[0m\u001b[1;33m\u001b[0m\u001b[1;33m\u001b[0m\u001b[0m\n\u001b[0m",
      "\u001b[1;31mNameError\u001b[0m: name 'simple_gen' is not defined"
     ]
    }
   ],
   "source": [
    "f = simple_gen()"
   ]
  },
  {
   "cell_type": "code",
   "execution_count": 3,
   "id": "7d07db7c",
   "metadata": {},
   "outputs": [
    {
     "ename": "NameError",
     "evalue": "name 'g' is not defined",
     "output_type": "error",
     "traceback": [
      "\u001b[1;31m---------------------------------------------------------------------------\u001b[0m",
      "\u001b[1;31mNameError\u001b[0m                                 Traceback (most recent call last)",
      "\u001b[1;32m~\\AppData\\Local\\Temp\\ipykernel_8812\\1093014456.py\u001b[0m in \u001b[0;36m<module>\u001b[1;34m\u001b[0m\n\u001b[1;32m----> 1\u001b[1;33m \u001b[0mg\u001b[0m\u001b[1;33m\u001b[0m\u001b[1;33m\u001b[0m\u001b[0m\n\u001b[0m",
      "\u001b[1;31mNameError\u001b[0m: name 'g' is not defined"
     ]
    }
   ],
   "source": [
    "g"
   ]
  },
  {
   "cell_type": "code",
   "execution_count": null,
   "id": "0909e8b8",
   "metadata": {},
   "outputs": [],
   "source": []
  }
 ],
 "metadata": {
  "kernelspec": {
   "display_name": "Python 3 (ipykernel)",
   "language": "python",
   "name": "python3"
  },
  "language_info": {
   "codemirror_mode": {
    "name": "ipython",
    "version": 3
   },
   "file_extension": ".py",
   "mimetype": "text/x-python",
   "name": "python",
   "nbconvert_exporter": "python",
   "pygments_lexer": "ipython3",
   "version": "3.7.8"
  }
 },
 "nbformat": 4,
 "nbformat_minor": 5
}
