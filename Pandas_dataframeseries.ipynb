{
 "cells": [
  {
   "cell_type": "code",
   "execution_count": 1,
   "id": "44c774dd",
   "metadata": {},
   "outputs": [],
   "source": [
    "# pip install pandas\n",
    "# conda install pandas\n",
    "\n",
    "# -->Analayze, clean and manipulate the data.\n",
    "# 1. Data frame\n",
    "# *two dimensional\n",
    "# *size of the data frame is mutable\n",
    "# *heterogenous tabular data(diff)\n",
    "# *rows and colums\n",
    "\n",
    "# 2. Series\n",
    "# *one dimensional label array(it can hold any type inr,flt,stoat))\n",
    "# *one dimension->Index"
   ]
  },
  {
   "cell_type": "code",
   "execution_count": 2,
   "id": "24b01f79",
   "metadata": {},
   "outputs": [],
   "source": [
    "import pandas as pd "
   ]
  },
  {
   "cell_type": "code",
   "execution_count": 3,
   "id": "8d0ffaed",
   "metadata": {},
   "outputs": [],
   "source": [
    "import numpy as np #it is used to create null value"
   ]
  },
  {
   "cell_type": "code",
   "execution_count": 4,
   "id": "f708c007",
   "metadata": {},
   "outputs": [],
   "source": [
    "s = pd.Series([1,2,3,4,5,6,np.nan,8,9,10]) #series"
   ]
  },
  {
   "cell_type": "code",
   "execution_count": 5,
   "id": "871472a2",
   "metadata": {},
   "outputs": [
    {
     "data": {
      "text/plain": [
       "0     1.0\n",
       "1     2.0\n",
       "2     3.0\n",
       "3     4.0\n",
       "4     5.0\n",
       "5     6.0\n",
       "6     NaN\n",
       "7     8.0\n",
       "8     9.0\n",
       "9    10.0\n",
       "dtype: float64"
      ]
     },
     "execution_count": 5,
     "metadata": {},
     "output_type": "execute_result"
    }
   ],
   "source": [
    "s"
   ]
  },
  {
   "cell_type": "code",
   "execution_count": 6,
   "id": "3dc06da8",
   "metadata": {},
   "outputs": [],
   "source": [
    "d = pd.date_range('20230102',periods=10) #creating a dataframe by passing an numpy array with \n",
    "# daytime index and label colums"
   ]
  },
  {
   "cell_type": "code",
   "execution_count": 7,
   "id": "0df3da13",
   "metadata": {},
   "outputs": [
    {
     "data": {
      "text/plain": [
       "DatetimeIndex(['2023-01-02', '2023-01-03', '2023-01-04', '2023-01-05',\n",
       "               '2023-01-06', '2023-01-07', '2023-01-08', '2023-01-09',\n",
       "               '2023-01-10', '2023-01-11'],\n",
       "              dtype='datetime64[ns]', freq='D')"
      ]
     },
     "execution_count": 7,
     "metadata": {},
     "output_type": "execute_result"
    }
   ],
   "source": [
    "d"
   ]
  },
  {
   "cell_type": "code",
   "execution_count": 8,
   "id": "d25a812f",
   "metadata": {},
   "outputs": [],
   "source": [
    "df = pd.DataFrame(np.random.randn(10,4), index=d,columns=['A','B','C','D'])"
   ]
  },
  {
   "cell_type": "code",
   "execution_count": 9,
   "id": "3d7c2a99",
   "metadata": {
    "scrolled": true
   },
   "outputs": [
    {
     "data": {
      "text/html": [
       "<div>\n",
       "<style scoped>\n",
       "    .dataframe tbody tr th:only-of-type {\n",
       "        vertical-align: middle;\n",
       "    }\n",
       "\n",
       "    .dataframe tbody tr th {\n",
       "        vertical-align: top;\n",
       "    }\n",
       "\n",
       "    .dataframe thead th {\n",
       "        text-align: right;\n",
       "    }\n",
       "</style>\n",
       "<table border=\"1\" class=\"dataframe\">\n",
       "  <thead>\n",
       "    <tr style=\"text-align: right;\">\n",
       "      <th></th>\n",
       "      <th>A</th>\n",
       "      <th>B</th>\n",
       "      <th>C</th>\n",
       "      <th>D</th>\n",
       "    </tr>\n",
       "  </thead>\n",
       "  <tbody>\n",
       "    <tr>\n",
       "      <th>2023-01-02</th>\n",
       "      <td>0.294449</td>\n",
       "      <td>-0.669557</td>\n",
       "      <td>1.082881</td>\n",
       "      <td>-0.608356</td>\n",
       "    </tr>\n",
       "    <tr>\n",
       "      <th>2023-01-03</th>\n",
       "      <td>-1.530602</td>\n",
       "      <td>-1.001636</td>\n",
       "      <td>0.277613</td>\n",
       "      <td>0.005745</td>\n",
       "    </tr>\n",
       "    <tr>\n",
       "      <th>2023-01-04</th>\n",
       "      <td>0.664070</td>\n",
       "      <td>-0.461478</td>\n",
       "      <td>0.100454</td>\n",
       "      <td>0.830750</td>\n",
       "    </tr>\n",
       "    <tr>\n",
       "      <th>2023-01-05</th>\n",
       "      <td>-0.905081</td>\n",
       "      <td>-0.608348</td>\n",
       "      <td>1.372222</td>\n",
       "      <td>0.803051</td>\n",
       "    </tr>\n",
       "    <tr>\n",
       "      <th>2023-01-06</th>\n",
       "      <td>-0.883053</td>\n",
       "      <td>1.687950</td>\n",
       "      <td>-0.446626</td>\n",
       "      <td>-0.771202</td>\n",
       "    </tr>\n",
       "    <tr>\n",
       "      <th>2023-01-07</th>\n",
       "      <td>-0.135570</td>\n",
       "      <td>-2.199801</td>\n",
       "      <td>-0.416947</td>\n",
       "      <td>-0.370005</td>\n",
       "    </tr>\n",
       "    <tr>\n",
       "      <th>2023-01-08</th>\n",
       "      <td>-0.076765</td>\n",
       "      <td>-0.554816</td>\n",
       "      <td>1.307539</td>\n",
       "      <td>-0.547091</td>\n",
       "    </tr>\n",
       "    <tr>\n",
       "      <th>2023-01-09</th>\n",
       "      <td>-1.130369</td>\n",
       "      <td>1.206264</td>\n",
       "      <td>0.602999</td>\n",
       "      <td>-1.033362</td>\n",
       "    </tr>\n",
       "    <tr>\n",
       "      <th>2023-01-10</th>\n",
       "      <td>-0.604860</td>\n",
       "      <td>0.351813</td>\n",
       "      <td>1.558359</td>\n",
       "      <td>-0.857725</td>\n",
       "    </tr>\n",
       "    <tr>\n",
       "      <th>2023-01-11</th>\n",
       "      <td>-0.248593</td>\n",
       "      <td>0.485526</td>\n",
       "      <td>1.171814</td>\n",
       "      <td>-1.763336</td>\n",
       "    </tr>\n",
       "  </tbody>\n",
       "</table>\n",
       "</div>"
      ],
      "text/plain": [
       "                   A         B         C         D\n",
       "2023-01-02  0.294449 -0.669557  1.082881 -0.608356\n",
       "2023-01-03 -1.530602 -1.001636  0.277613  0.005745\n",
       "2023-01-04  0.664070 -0.461478  0.100454  0.830750\n",
       "2023-01-05 -0.905081 -0.608348  1.372222  0.803051\n",
       "2023-01-06 -0.883053  1.687950 -0.446626 -0.771202\n",
       "2023-01-07 -0.135570 -2.199801 -0.416947 -0.370005\n",
       "2023-01-08 -0.076765 -0.554816  1.307539 -0.547091\n",
       "2023-01-09 -1.130369  1.206264  0.602999 -1.033362\n",
       "2023-01-10 -0.604860  0.351813  1.558359 -0.857725\n",
       "2023-01-11 -0.248593  0.485526  1.171814 -1.763336"
      ]
     },
     "execution_count": 9,
     "metadata": {},
     "output_type": "execute_result"
    }
   ],
   "source": [
    "df"
   ]
  },
  {
   "cell_type": "code",
   "execution_count": 11,
   "id": "9d74b8e8",
   "metadata": {},
   "outputs": [],
   "source": [
    "df1 = pd.DataFrame({'A':[1,2,3,4],\n",
    "                   'B':pd.Timestamp('20230102'),\n",
    "                   'C':pd.Series(1, index=list(range(0,4)),dtype='float32'),\n",
    "                   'D':pd.array([5]*4, dtype='int32'),\n",
    "                   'E':pd.Categorical(['True','False','True','False']),\n",
    "                   'F':'Python'})#passing an dict"
   ]
  },
  {
   "cell_type": "code",
   "execution_count": 12,
   "id": "16717db0",
   "metadata": {},
   "outputs": [
    {
     "data": {
      "text/html": [
       "<div>\n",
       "<style scoped>\n",
       "    .dataframe tbody tr th:only-of-type {\n",
       "        vertical-align: middle;\n",
       "    }\n",
       "\n",
       "    .dataframe tbody tr th {\n",
       "        vertical-align: top;\n",
       "    }\n",
       "\n",
       "    .dataframe thead th {\n",
       "        text-align: right;\n",
       "    }\n",
       "</style>\n",
       "<table border=\"1\" class=\"dataframe\">\n",
       "  <thead>\n",
       "    <tr style=\"text-align: right;\">\n",
       "      <th></th>\n",
       "      <th>A</th>\n",
       "      <th>B</th>\n",
       "      <th>C</th>\n",
       "      <th>D</th>\n",
       "      <th>E</th>\n",
       "      <th>F</th>\n",
       "    </tr>\n",
       "  </thead>\n",
       "  <tbody>\n",
       "    <tr>\n",
       "      <th>0</th>\n",
       "      <td>1</td>\n",
       "      <td>2023-01-02</td>\n",
       "      <td>1.0</td>\n",
       "      <td>5</td>\n",
       "      <td>True</td>\n",
       "      <td>Python</td>\n",
       "    </tr>\n",
       "    <tr>\n",
       "      <th>1</th>\n",
       "      <td>2</td>\n",
       "      <td>2023-01-02</td>\n",
       "      <td>1.0</td>\n",
       "      <td>5</td>\n",
       "      <td>False</td>\n",
       "      <td>Python</td>\n",
       "    </tr>\n",
       "    <tr>\n",
       "      <th>2</th>\n",
       "      <td>3</td>\n",
       "      <td>2023-01-02</td>\n",
       "      <td>1.0</td>\n",
       "      <td>5</td>\n",
       "      <td>True</td>\n",
       "      <td>Python</td>\n",
       "    </tr>\n",
       "    <tr>\n",
       "      <th>3</th>\n",
       "      <td>4</td>\n",
       "      <td>2023-01-02</td>\n",
       "      <td>1.0</td>\n",
       "      <td>5</td>\n",
       "      <td>False</td>\n",
       "      <td>Python</td>\n",
       "    </tr>\n",
       "  </tbody>\n",
       "</table>\n",
       "</div>"
      ],
      "text/plain": [
       "   A          B    C  D      E       F\n",
       "0  1 2023-01-02  1.0  5   True  Python\n",
       "1  2 2023-01-02  1.0  5  False  Python\n",
       "2  3 2023-01-02  1.0  5   True  Python\n",
       "3  4 2023-01-02  1.0  5  False  Python"
      ]
     },
     "execution_count": 12,
     "metadata": {},
     "output_type": "execute_result"
    }
   ],
   "source": [
    "df1"
   ]
  },
  {
   "cell_type": "code",
   "execution_count": null,
   "id": "228664b2",
   "metadata": {},
   "outputs": [],
   "source": [
    "df1.dtypes"
   ]
  },
  {
   "cell_type": "code",
   "execution_count": null,
   "id": "3c9f5150",
   "metadata": {},
   "outputs": [],
   "source": [
    "# HOW TO VIEW DATA?\n",
    "df.dtypes"
   ]
  },
  {
   "cell_type": "code",
   "execution_count": null,
   "id": "9bb2b192",
   "metadata": {},
   "outputs": [],
   "source": [
    "df.head()"
   ]
  },
  {
   "cell_type": "code",
   "execution_count": null,
   "id": "c637d759",
   "metadata": {},
   "outputs": [],
   "source": [
    "df.tail()"
   ]
  },
  {
   "cell_type": "code",
   "execution_count": null,
   "id": "22396c48",
   "metadata": {},
   "outputs": [],
   "source": [
    "df.index"
   ]
  },
  {
   "cell_type": "code",
   "execution_count": null,
   "id": "211a63e5",
   "metadata": {},
   "outputs": [],
   "source": [
    "df.columns"
   ]
  },
  {
   "cell_type": "code",
   "execution_count": null,
   "id": "4a5ce568",
   "metadata": {},
   "outputs": [],
   "source": [
    "df.describe()"
   ]
  },
  {
   "cell_type": "code",
   "execution_count": 13,
   "id": "35028532",
   "metadata": {},
   "outputs": [
    {
     "data": {
      "text/html": [
       "<div>\n",
       "<style scoped>\n",
       "    .dataframe tbody tr th:only-of-type {\n",
       "        vertical-align: middle;\n",
       "    }\n",
       "\n",
       "    .dataframe tbody tr th {\n",
       "        vertical-align: top;\n",
       "    }\n",
       "\n",
       "    .dataframe thead th {\n",
       "        text-align: right;\n",
       "    }\n",
       "</style>\n",
       "<table border=\"1\" class=\"dataframe\">\n",
       "  <thead>\n",
       "    <tr style=\"text-align: right;\">\n",
       "      <th></th>\n",
       "      <th>A</th>\n",
       "      <th>B</th>\n",
       "      <th>C</th>\n",
       "      <th>D</th>\n",
       "    </tr>\n",
       "  </thead>\n",
       "  <tbody>\n",
       "    <tr>\n",
       "      <th>2023-01-02</th>\n",
       "      <td>0.294449</td>\n",
       "      <td>-0.669557</td>\n",
       "      <td>1.082881</td>\n",
       "      <td>-0.608356</td>\n",
       "    </tr>\n",
       "    <tr>\n",
       "      <th>2023-01-03</th>\n",
       "      <td>-1.530602</td>\n",
       "      <td>-1.001636</td>\n",
       "      <td>0.277613</td>\n",
       "      <td>0.005745</td>\n",
       "    </tr>\n",
       "    <tr>\n",
       "      <th>2023-01-04</th>\n",
       "      <td>0.664070</td>\n",
       "      <td>-0.461478</td>\n",
       "      <td>0.100454</td>\n",
       "      <td>0.830750</td>\n",
       "    </tr>\n",
       "    <tr>\n",
       "      <th>2023-01-05</th>\n",
       "      <td>-0.905081</td>\n",
       "      <td>-0.608348</td>\n",
       "      <td>1.372222</td>\n",
       "      <td>0.803051</td>\n",
       "    </tr>\n",
       "    <tr>\n",
       "      <th>2023-01-06</th>\n",
       "      <td>-0.883053</td>\n",
       "      <td>1.687950</td>\n",
       "      <td>-0.446626</td>\n",
       "      <td>-0.771202</td>\n",
       "    </tr>\n",
       "    <tr>\n",
       "      <th>2023-01-07</th>\n",
       "      <td>-0.135570</td>\n",
       "      <td>-2.199801</td>\n",
       "      <td>-0.416947</td>\n",
       "      <td>-0.370005</td>\n",
       "    </tr>\n",
       "    <tr>\n",
       "      <th>2023-01-08</th>\n",
       "      <td>-0.076765</td>\n",
       "      <td>-0.554816</td>\n",
       "      <td>1.307539</td>\n",
       "      <td>-0.547091</td>\n",
       "    </tr>\n",
       "    <tr>\n",
       "      <th>2023-01-09</th>\n",
       "      <td>-1.130369</td>\n",
       "      <td>1.206264</td>\n",
       "      <td>0.602999</td>\n",
       "      <td>-1.033362</td>\n",
       "    </tr>\n",
       "    <tr>\n",
       "      <th>2023-01-10</th>\n",
       "      <td>-0.604860</td>\n",
       "      <td>0.351813</td>\n",
       "      <td>1.558359</td>\n",
       "      <td>-0.857725</td>\n",
       "    </tr>\n",
       "    <tr>\n",
       "      <th>2023-01-11</th>\n",
       "      <td>-0.248593</td>\n",
       "      <td>0.485526</td>\n",
       "      <td>1.171814</td>\n",
       "      <td>-1.763336</td>\n",
       "    </tr>\n",
       "  </tbody>\n",
       "</table>\n",
       "</div>"
      ],
      "text/plain": [
       "                   A         B         C         D\n",
       "2023-01-02  0.294449 -0.669557  1.082881 -0.608356\n",
       "2023-01-03 -1.530602 -1.001636  0.277613  0.005745\n",
       "2023-01-04  0.664070 -0.461478  0.100454  0.830750\n",
       "2023-01-05 -0.905081 -0.608348  1.372222  0.803051\n",
       "2023-01-06 -0.883053  1.687950 -0.446626 -0.771202\n",
       "2023-01-07 -0.135570 -2.199801 -0.416947 -0.370005\n",
       "2023-01-08 -0.076765 -0.554816  1.307539 -0.547091\n",
       "2023-01-09 -1.130369  1.206264  0.602999 -1.033362\n",
       "2023-01-10 -0.604860  0.351813  1.558359 -0.857725\n",
       "2023-01-11 -0.248593  0.485526  1.171814 -1.763336"
      ]
     },
     "execution_count": 13,
     "metadata": {},
     "output_type": "execute_result"
    }
   ],
   "source": [
    "df.sort_index(axis=1, ascending=True) #axis0(Y) axis1(X)"
   ]
  },
  {
   "cell_type": "code",
   "execution_count": 14,
   "id": "afe7d601",
   "metadata": {},
   "outputs": [
    {
     "data": {
      "text/html": [
       "<div>\n",
       "<style scoped>\n",
       "    .dataframe tbody tr th:only-of-type {\n",
       "        vertical-align: middle;\n",
       "    }\n",
       "\n",
       "    .dataframe tbody tr th {\n",
       "        vertical-align: top;\n",
       "    }\n",
       "\n",
       "    .dataframe thead th {\n",
       "        text-align: right;\n",
       "    }\n",
       "</style>\n",
       "<table border=\"1\" class=\"dataframe\">\n",
       "  <thead>\n",
       "    <tr style=\"text-align: right;\">\n",
       "      <th></th>\n",
       "      <th>A</th>\n",
       "      <th>B</th>\n",
       "      <th>C</th>\n",
       "      <th>D</th>\n",
       "    </tr>\n",
       "  </thead>\n",
       "  <tbody>\n",
       "    <tr>\n",
       "      <th>2023-01-11</th>\n",
       "      <td>-0.248593</td>\n",
       "      <td>0.485526</td>\n",
       "      <td>1.171814</td>\n",
       "      <td>-1.763336</td>\n",
       "    </tr>\n",
       "    <tr>\n",
       "      <th>2023-01-10</th>\n",
       "      <td>-0.604860</td>\n",
       "      <td>0.351813</td>\n",
       "      <td>1.558359</td>\n",
       "      <td>-0.857725</td>\n",
       "    </tr>\n",
       "    <tr>\n",
       "      <th>2023-01-09</th>\n",
       "      <td>-1.130369</td>\n",
       "      <td>1.206264</td>\n",
       "      <td>0.602999</td>\n",
       "      <td>-1.033362</td>\n",
       "    </tr>\n",
       "    <tr>\n",
       "      <th>2023-01-08</th>\n",
       "      <td>-0.076765</td>\n",
       "      <td>-0.554816</td>\n",
       "      <td>1.307539</td>\n",
       "      <td>-0.547091</td>\n",
       "    </tr>\n",
       "    <tr>\n",
       "      <th>2023-01-07</th>\n",
       "      <td>-0.135570</td>\n",
       "      <td>-2.199801</td>\n",
       "      <td>-0.416947</td>\n",
       "      <td>-0.370005</td>\n",
       "    </tr>\n",
       "    <tr>\n",
       "      <th>2023-01-06</th>\n",
       "      <td>-0.883053</td>\n",
       "      <td>1.687950</td>\n",
       "      <td>-0.446626</td>\n",
       "      <td>-0.771202</td>\n",
       "    </tr>\n",
       "    <tr>\n",
       "      <th>2023-01-05</th>\n",
       "      <td>-0.905081</td>\n",
       "      <td>-0.608348</td>\n",
       "      <td>1.372222</td>\n",
       "      <td>0.803051</td>\n",
       "    </tr>\n",
       "    <tr>\n",
       "      <th>2023-01-04</th>\n",
       "      <td>0.664070</td>\n",
       "      <td>-0.461478</td>\n",
       "      <td>0.100454</td>\n",
       "      <td>0.830750</td>\n",
       "    </tr>\n",
       "    <tr>\n",
       "      <th>2023-01-03</th>\n",
       "      <td>-1.530602</td>\n",
       "      <td>-1.001636</td>\n",
       "      <td>0.277613</td>\n",
       "      <td>0.005745</td>\n",
       "    </tr>\n",
       "    <tr>\n",
       "      <th>2023-01-02</th>\n",
       "      <td>0.294449</td>\n",
       "      <td>-0.669557</td>\n",
       "      <td>1.082881</td>\n",
       "      <td>-0.608356</td>\n",
       "    </tr>\n",
       "  </tbody>\n",
       "</table>\n",
       "</div>"
      ],
      "text/plain": [
       "                   A         B         C         D\n",
       "2023-01-11 -0.248593  0.485526  1.171814 -1.763336\n",
       "2023-01-10 -0.604860  0.351813  1.558359 -0.857725\n",
       "2023-01-09 -1.130369  1.206264  0.602999 -1.033362\n",
       "2023-01-08 -0.076765 -0.554816  1.307539 -0.547091\n",
       "2023-01-07 -0.135570 -2.199801 -0.416947 -0.370005\n",
       "2023-01-06 -0.883053  1.687950 -0.446626 -0.771202\n",
       "2023-01-05 -0.905081 -0.608348  1.372222  0.803051\n",
       "2023-01-04  0.664070 -0.461478  0.100454  0.830750\n",
       "2023-01-03 -1.530602 -1.001636  0.277613  0.005745\n",
       "2023-01-02  0.294449 -0.669557  1.082881 -0.608356"
      ]
     },
     "execution_count": 14,
     "metadata": {},
     "output_type": "execute_result"
    }
   ],
   "source": [
    "df.sort_index(axis=0, ascending=False)"
   ]
  },
  {
   "cell_type": "code",
   "execution_count": 15,
   "id": "1503943e",
   "metadata": {},
   "outputs": [
    {
     "data": {
      "text/html": [
       "<div>\n",
       "<style scoped>\n",
       "    .dataframe tbody tr th:only-of-type {\n",
       "        vertical-align: middle;\n",
       "    }\n",
       "\n",
       "    .dataframe tbody tr th {\n",
       "        vertical-align: top;\n",
       "    }\n",
       "\n",
       "    .dataframe thead th {\n",
       "        text-align: right;\n",
       "    }\n",
       "</style>\n",
       "<table border=\"1\" class=\"dataframe\">\n",
       "  <thead>\n",
       "    <tr style=\"text-align: right;\">\n",
       "      <th></th>\n",
       "      <th>A</th>\n",
       "      <th>B</th>\n",
       "      <th>C</th>\n",
       "      <th>D</th>\n",
       "    </tr>\n",
       "  </thead>\n",
       "  <tbody>\n",
       "    <tr>\n",
       "      <th>2023-01-06</th>\n",
       "      <td>-0.883053</td>\n",
       "      <td>1.687950</td>\n",
       "      <td>-0.446626</td>\n",
       "      <td>-0.771202</td>\n",
       "    </tr>\n",
       "    <tr>\n",
       "      <th>2023-01-07</th>\n",
       "      <td>-0.135570</td>\n",
       "      <td>-2.199801</td>\n",
       "      <td>-0.416947</td>\n",
       "      <td>-0.370005</td>\n",
       "    </tr>\n",
       "    <tr>\n",
       "      <th>2023-01-04</th>\n",
       "      <td>0.664070</td>\n",
       "      <td>-0.461478</td>\n",
       "      <td>0.100454</td>\n",
       "      <td>0.830750</td>\n",
       "    </tr>\n",
       "    <tr>\n",
       "      <th>2023-01-03</th>\n",
       "      <td>-1.530602</td>\n",
       "      <td>-1.001636</td>\n",
       "      <td>0.277613</td>\n",
       "      <td>0.005745</td>\n",
       "    </tr>\n",
       "    <tr>\n",
       "      <th>2023-01-09</th>\n",
       "      <td>-1.130369</td>\n",
       "      <td>1.206264</td>\n",
       "      <td>0.602999</td>\n",
       "      <td>-1.033362</td>\n",
       "    </tr>\n",
       "    <tr>\n",
       "      <th>2023-01-02</th>\n",
       "      <td>0.294449</td>\n",
       "      <td>-0.669557</td>\n",
       "      <td>1.082881</td>\n",
       "      <td>-0.608356</td>\n",
       "    </tr>\n",
       "    <tr>\n",
       "      <th>2023-01-11</th>\n",
       "      <td>-0.248593</td>\n",
       "      <td>0.485526</td>\n",
       "      <td>1.171814</td>\n",
       "      <td>-1.763336</td>\n",
       "    </tr>\n",
       "    <tr>\n",
       "      <th>2023-01-08</th>\n",
       "      <td>-0.076765</td>\n",
       "      <td>-0.554816</td>\n",
       "      <td>1.307539</td>\n",
       "      <td>-0.547091</td>\n",
       "    </tr>\n",
       "    <tr>\n",
       "      <th>2023-01-05</th>\n",
       "      <td>-0.905081</td>\n",
       "      <td>-0.608348</td>\n",
       "      <td>1.372222</td>\n",
       "      <td>0.803051</td>\n",
       "    </tr>\n",
       "    <tr>\n",
       "      <th>2023-01-10</th>\n",
       "      <td>-0.604860</td>\n",
       "      <td>0.351813</td>\n",
       "      <td>1.558359</td>\n",
       "      <td>-0.857725</td>\n",
       "    </tr>\n",
       "  </tbody>\n",
       "</table>\n",
       "</div>"
      ],
      "text/plain": [
       "                   A         B         C         D\n",
       "2023-01-06 -0.883053  1.687950 -0.446626 -0.771202\n",
       "2023-01-07 -0.135570 -2.199801 -0.416947 -0.370005\n",
       "2023-01-04  0.664070 -0.461478  0.100454  0.830750\n",
       "2023-01-03 -1.530602 -1.001636  0.277613  0.005745\n",
       "2023-01-09 -1.130369  1.206264  0.602999 -1.033362\n",
       "2023-01-02  0.294449 -0.669557  1.082881 -0.608356\n",
       "2023-01-11 -0.248593  0.485526  1.171814 -1.763336\n",
       "2023-01-08 -0.076765 -0.554816  1.307539 -0.547091\n",
       "2023-01-05 -0.905081 -0.608348  1.372222  0.803051\n",
       "2023-01-10 -0.604860  0.351813  1.558359 -0.857725"
      ]
     },
     "execution_count": 15,
     "metadata": {},
     "output_type": "execute_result"
    }
   ],
   "source": [
    "df.sort_values(by='C')"
   ]
  },
  {
   "cell_type": "code",
   "execution_count": 16,
   "id": "11d3edc4",
   "metadata": {},
   "outputs": [
    {
     "data": {
      "text/plain": [
       "2023-01-02    1.082881\n",
       "2023-01-03    0.277613\n",
       "2023-01-04    0.100454\n",
       "2023-01-05    1.372222\n",
       "2023-01-06   -0.446626\n",
       "2023-01-07   -0.416947\n",
       "2023-01-08    1.307539\n",
       "2023-01-09    0.602999\n",
       "2023-01-10    1.558359\n",
       "2023-01-11    1.171814\n",
       "Freq: D, Name: C, dtype: float64"
      ]
     },
     "execution_count": 16,
     "metadata": {},
     "output_type": "execute_result"
    }
   ],
   "source": [
    "# HOW TO SELECT VALUES\n",
    "df['C']"
   ]
  },
  {
   "cell_type": "code",
   "execution_count": null,
   "id": "96b8ba5e",
   "metadata": {},
   "outputs": [],
   "source": [
    "df[0:3]"
   ]
  },
  {
   "cell_type": "code",
   "execution_count": 17,
   "id": "d2b9900c",
   "metadata": {},
   "outputs": [
    {
     "data": {
      "text/plain": [
       "A    0.294449\n",
       "B   -0.669557\n",
       "C    1.082881\n",
       "D   -0.608356\n",
       "Name: 2023-01-02 00:00:00, dtype: float64"
      ]
     },
     "execution_count": 17,
     "metadata": {},
     "output_type": "execute_result"
    }
   ],
   "source": [
    "# HOW to select using labels\n",
    "df.loc[d[0]]"
   ]
  },
  {
   "cell_type": "code",
   "execution_count": null,
   "id": "681db76d",
   "metadata": {},
   "outputs": [],
   "source": [
    "df.loc[:,['A','C']]"
   ]
  },
  {
   "cell_type": "code",
   "execution_count": null,
   "id": "1c598fd4",
   "metadata": {},
   "outputs": [],
   "source": [
    "df.loc['20230102':'20230105',['A','C']]"
   ]
  },
  {
   "cell_type": "code",
   "execution_count": null,
   "id": "86bb7545",
   "metadata": {},
   "outputs": [],
   "source": [
    "df.loc['20230105',['A','C']]"
   ]
  },
  {
   "cell_type": "code",
   "execution_count": null,
   "id": "8ac016fc",
   "metadata": {},
   "outputs": [],
   "source": [
    "df.loc[d[0],['A','C']]"
   ]
  },
  {
   "cell_type": "code",
   "execution_count": null,
   "id": "55eab816",
   "metadata": {},
   "outputs": [],
   "source": [
    "df.at[d[0],'C']"
   ]
  },
  {
   "cell_type": "code",
   "execution_count": null,
   "id": "4b0c669b",
   "metadata": {},
   "outputs": [],
   "source": [
    "# using boolean\n",
    "df[df['A']>0]"
   ]
  },
  {
   "cell_type": "code",
   "execution_count": 19,
   "id": "1c92b94c",
   "metadata": {},
   "outputs": [],
   "source": [
    "# HOW TO HANDLE MISSING DATA?\n",
    "df2 =df.reindex(index=d[0:4], columns=list(df.columns) + ['E'])"
   ]
  },
  {
   "cell_type": "code",
   "execution_count": 20,
   "id": "fdcf15cd",
   "metadata": {},
   "outputs": [
    {
     "data": {
      "text/html": [
       "<div>\n",
       "<style scoped>\n",
       "    .dataframe tbody tr th:only-of-type {\n",
       "        vertical-align: middle;\n",
       "    }\n",
       "\n",
       "    .dataframe tbody tr th {\n",
       "        vertical-align: top;\n",
       "    }\n",
       "\n",
       "    .dataframe thead th {\n",
       "        text-align: right;\n",
       "    }\n",
       "</style>\n",
       "<table border=\"1\" class=\"dataframe\">\n",
       "  <thead>\n",
       "    <tr style=\"text-align: right;\">\n",
       "      <th></th>\n",
       "      <th>A</th>\n",
       "      <th>B</th>\n",
       "      <th>C</th>\n",
       "      <th>D</th>\n",
       "      <th>E</th>\n",
       "    </tr>\n",
       "  </thead>\n",
       "  <tbody>\n",
       "    <tr>\n",
       "      <th>2023-01-02</th>\n",
       "      <td>0.294449</td>\n",
       "      <td>-0.669557</td>\n",
       "      <td>1.082881</td>\n",
       "      <td>-0.608356</td>\n",
       "      <td>NaN</td>\n",
       "    </tr>\n",
       "    <tr>\n",
       "      <th>2023-01-03</th>\n",
       "      <td>-1.530602</td>\n",
       "      <td>-1.001636</td>\n",
       "      <td>0.277613</td>\n",
       "      <td>0.005745</td>\n",
       "      <td>NaN</td>\n",
       "    </tr>\n",
       "    <tr>\n",
       "      <th>2023-01-04</th>\n",
       "      <td>0.664070</td>\n",
       "      <td>-0.461478</td>\n",
       "      <td>0.100454</td>\n",
       "      <td>0.830750</td>\n",
       "      <td>NaN</td>\n",
       "    </tr>\n",
       "    <tr>\n",
       "      <th>2023-01-05</th>\n",
       "      <td>-0.905081</td>\n",
       "      <td>-0.608348</td>\n",
       "      <td>1.372222</td>\n",
       "      <td>0.803051</td>\n",
       "      <td>NaN</td>\n",
       "    </tr>\n",
       "  </tbody>\n",
       "</table>\n",
       "</div>"
      ],
      "text/plain": [
       "                   A         B         C         D   E\n",
       "2023-01-02  0.294449 -0.669557  1.082881 -0.608356 NaN\n",
       "2023-01-03 -1.530602 -1.001636  0.277613  0.005745 NaN\n",
       "2023-01-04  0.664070 -0.461478  0.100454  0.830750 NaN\n",
       "2023-01-05 -0.905081 -0.608348  1.372222  0.803051 NaN"
      ]
     },
     "execution_count": 20,
     "metadata": {},
     "output_type": "execute_result"
    }
   ],
   "source": [
    "df2"
   ]
  },
  {
   "cell_type": "code",
   "execution_count": 21,
   "id": "8863d211",
   "metadata": {},
   "outputs": [],
   "source": [
    "df2.loc[d[0:2],'E']= 1"
   ]
  },
  {
   "cell_type": "code",
   "execution_count": 22,
   "id": "b5c81be2",
   "metadata": {},
   "outputs": [
    {
     "data": {
      "text/html": [
       "<div>\n",
       "<style scoped>\n",
       "    .dataframe tbody tr th:only-of-type {\n",
       "        vertical-align: middle;\n",
       "    }\n",
       "\n",
       "    .dataframe tbody tr th {\n",
       "        vertical-align: top;\n",
       "    }\n",
       "\n",
       "    .dataframe thead th {\n",
       "        text-align: right;\n",
       "    }\n",
       "</style>\n",
       "<table border=\"1\" class=\"dataframe\">\n",
       "  <thead>\n",
       "    <tr style=\"text-align: right;\">\n",
       "      <th></th>\n",
       "      <th>A</th>\n",
       "      <th>B</th>\n",
       "      <th>C</th>\n",
       "      <th>D</th>\n",
       "      <th>E</th>\n",
       "    </tr>\n",
       "  </thead>\n",
       "  <tbody>\n",
       "    <tr>\n",
       "      <th>2023-01-02</th>\n",
       "      <td>0.294449</td>\n",
       "      <td>-0.669557</td>\n",
       "      <td>1.082881</td>\n",
       "      <td>-0.608356</td>\n",
       "      <td>1.0</td>\n",
       "    </tr>\n",
       "    <tr>\n",
       "      <th>2023-01-03</th>\n",
       "      <td>-1.530602</td>\n",
       "      <td>-1.001636</td>\n",
       "      <td>0.277613</td>\n",
       "      <td>0.005745</td>\n",
       "      <td>1.0</td>\n",
       "    </tr>\n",
       "    <tr>\n",
       "      <th>2023-01-04</th>\n",
       "      <td>0.664070</td>\n",
       "      <td>-0.461478</td>\n",
       "      <td>0.100454</td>\n",
       "      <td>0.830750</td>\n",
       "      <td>NaN</td>\n",
       "    </tr>\n",
       "    <tr>\n",
       "      <th>2023-01-05</th>\n",
       "      <td>-0.905081</td>\n",
       "      <td>-0.608348</td>\n",
       "      <td>1.372222</td>\n",
       "      <td>0.803051</td>\n",
       "      <td>NaN</td>\n",
       "    </tr>\n",
       "  </tbody>\n",
       "</table>\n",
       "</div>"
      ],
      "text/plain": [
       "                   A         B         C         D    E\n",
       "2023-01-02  0.294449 -0.669557  1.082881 -0.608356  1.0\n",
       "2023-01-03 -1.530602 -1.001636  0.277613  0.005745  1.0\n",
       "2023-01-04  0.664070 -0.461478  0.100454  0.830750  NaN\n",
       "2023-01-05 -0.905081 -0.608348  1.372222  0.803051  NaN"
      ]
     },
     "execution_count": 22,
     "metadata": {},
     "output_type": "execute_result"
    }
   ],
   "source": [
    "df2"
   ]
  },
  {
   "cell_type": "code",
   "execution_count": 24,
   "id": "2d6014f7",
   "metadata": {},
   "outputs": [
    {
     "data": {
      "text/html": [
       "<div>\n",
       "<style scoped>\n",
       "    .dataframe tbody tr th:only-of-type {\n",
       "        vertical-align: middle;\n",
       "    }\n",
       "\n",
       "    .dataframe tbody tr th {\n",
       "        vertical-align: top;\n",
       "    }\n",
       "\n",
       "    .dataframe thead th {\n",
       "        text-align: right;\n",
       "    }\n",
       "</style>\n",
       "<table border=\"1\" class=\"dataframe\">\n",
       "  <thead>\n",
       "    <tr style=\"text-align: right;\">\n",
       "      <th></th>\n",
       "      <th>A</th>\n",
       "      <th>B</th>\n",
       "      <th>C</th>\n",
       "      <th>D</th>\n",
       "      <th>E</th>\n",
       "    </tr>\n",
       "  </thead>\n",
       "  <tbody>\n",
       "    <tr>\n",
       "      <th>2023-01-02</th>\n",
       "      <td>False</td>\n",
       "      <td>False</td>\n",
       "      <td>False</td>\n",
       "      <td>False</td>\n",
       "      <td>False</td>\n",
       "    </tr>\n",
       "    <tr>\n",
       "      <th>2023-01-03</th>\n",
       "      <td>False</td>\n",
       "      <td>False</td>\n",
       "      <td>False</td>\n",
       "      <td>False</td>\n",
       "      <td>False</td>\n",
       "    </tr>\n",
       "    <tr>\n",
       "      <th>2023-01-04</th>\n",
       "      <td>False</td>\n",
       "      <td>False</td>\n",
       "      <td>False</td>\n",
       "      <td>False</td>\n",
       "      <td>True</td>\n",
       "    </tr>\n",
       "    <tr>\n",
       "      <th>2023-01-05</th>\n",
       "      <td>False</td>\n",
       "      <td>False</td>\n",
       "      <td>False</td>\n",
       "      <td>False</td>\n",
       "      <td>True</td>\n",
       "    </tr>\n",
       "  </tbody>\n",
       "</table>\n",
       "</div>"
      ],
      "text/plain": [
       "                A      B      C      D      E\n",
       "2023-01-02  False  False  False  False  False\n",
       "2023-01-03  False  False  False  False  False\n",
       "2023-01-04  False  False  False  False   True\n",
       "2023-01-05  False  False  False  False   True"
      ]
     },
     "execution_count": 24,
     "metadata": {},
     "output_type": "execute_result"
    }
   ],
   "source": [
    "df2.isnull()"
   ]
  },
  {
   "cell_type": "code",
   "execution_count": 25,
   "id": "e1f187e9",
   "metadata": {},
   "outputs": [
    {
     "data": {
      "text/html": [
       "<div>\n",
       "<style scoped>\n",
       "    .dataframe tbody tr th:only-of-type {\n",
       "        vertical-align: middle;\n",
       "    }\n",
       "\n",
       "    .dataframe tbody tr th {\n",
       "        vertical-align: top;\n",
       "    }\n",
       "\n",
       "    .dataframe thead th {\n",
       "        text-align: right;\n",
       "    }\n",
       "</style>\n",
       "<table border=\"1\" class=\"dataframe\">\n",
       "  <thead>\n",
       "    <tr style=\"text-align: right;\">\n",
       "      <th></th>\n",
       "      <th>A</th>\n",
       "      <th>B</th>\n",
       "      <th>C</th>\n",
       "      <th>D</th>\n",
       "      <th>E</th>\n",
       "    </tr>\n",
       "  </thead>\n",
       "  <tbody>\n",
       "    <tr>\n",
       "      <th>2023-01-02</th>\n",
       "      <td>0.294449</td>\n",
       "      <td>-0.669557</td>\n",
       "      <td>1.082881</td>\n",
       "      <td>-0.608356</td>\n",
       "      <td>1.0</td>\n",
       "    </tr>\n",
       "    <tr>\n",
       "      <th>2023-01-03</th>\n",
       "      <td>-1.530602</td>\n",
       "      <td>-1.001636</td>\n",
       "      <td>0.277613</td>\n",
       "      <td>0.005745</td>\n",
       "      <td>1.0</td>\n",
       "    </tr>\n",
       "  </tbody>\n",
       "</table>\n",
       "</div>"
      ],
      "text/plain": [
       "                   A         B         C         D    E\n",
       "2023-01-02  0.294449 -0.669557  1.082881 -0.608356  1.0\n",
       "2023-01-03 -1.530602 -1.001636  0.277613  0.005745  1.0"
      ]
     },
     "execution_count": 25,
     "metadata": {},
     "output_type": "execute_result"
    }
   ],
   "source": [
    "df2.dropna()"
   ]
  },
  {
   "cell_type": "code",
   "execution_count": null,
   "id": "3122a403",
   "metadata": {},
   "outputs": [],
   "source": [
    "df2"
   ]
  },
  {
   "cell_type": "code",
   "execution_count": null,
   "id": "38efe98b",
   "metadata": {},
   "outputs": [],
   "source": [
    "df2.fillna(value=2)"
   ]
  },
  {
   "cell_type": "code",
   "execution_count": null,
   "id": "b52524b0",
   "metadata": {},
   "outputs": [],
   "source": [
    "# PANDAS OPERATIONS\n",
    "# isnull(): The main task of isnull() is to return the true value if any row has null values.\n",
    "# notnull(): It is opposite of isnull() function and it returns true values for not null value.\n",
    "# dropna(): This method analyzes and drops the rows/columns of null values.\n",
    "# fillna(): It allows the user to replace the NaN values with some other values.\n",
    "# lower(): It converts any strings of the series or index into lowercase letters.\n",
    "# upper(): It converts any string of the series or index into uppercase letters.\n",
    "# and more"
   ]
  },
  {
   "cell_type": "code",
   "execution_count": null,
   "id": "3cac52d2",
   "metadata": {},
   "outputs": [],
   "source": [
    "df.mean()"
   ]
  },
  {
   "cell_type": "code",
   "execution_count": 26,
   "id": "0d5a4602",
   "metadata": {},
   "outputs": [],
   "source": [
    "s = pd.Series(('Python','is','a','programming','language',np.nan,'notes','jupyter'))"
   ]
  },
  {
   "cell_type": "code",
   "execution_count": 27,
   "id": "a777fb52",
   "metadata": {},
   "outputs": [
    {
     "data": {
      "text/plain": [
       "0         PYTHON\n",
       "1             IS\n",
       "2              A\n",
       "3    PROGRAMMING\n",
       "4       LANGUAGE\n",
       "5            NaN\n",
       "6          NOTES\n",
       "7        JUPYTER\n",
       "dtype: object"
      ]
     },
     "execution_count": 27,
     "metadata": {},
     "output_type": "execute_result"
    }
   ],
   "source": [
    "s.str.upper()"
   ]
  },
  {
   "cell_type": "code",
   "execution_count": null,
   "id": "fd15b479",
   "metadata": {},
   "outputs": [],
   "source": [
    "s.str.lower()"
   ]
  },
  {
   "cell_type": "code",
   "execution_count": null,
   "id": "b4b180f4",
   "metadata": {},
   "outputs": [],
   "source": [
    "df = pd.DataFrame(np.random.randn(10,4))"
   ]
  },
  {
   "cell_type": "code",
   "execution_count": null,
   "id": "0eac4202",
   "metadata": {},
   "outputs": [],
   "source": [
    "df"
   ]
  },
  {
   "cell_type": "code",
   "execution_count": null,
   "id": "2c23f1a0",
   "metadata": {},
   "outputs": [],
   "source": [
    "df2 = [df[:3],df[3:7],df[7:]]"
   ]
  },
  {
   "cell_type": "code",
   "execution_count": null,
   "id": "dffa98d9",
   "metadata": {},
   "outputs": [],
   "source": [
    "df2"
   ]
  },
  {
   "cell_type": "code",
   "execution_count": null,
   "id": "d29a0f37",
   "metadata": {},
   "outputs": [],
   "source": [
    "pd.concat(df2)"
   ]
  },
  {
   "cell_type": "code",
   "execution_count": 30,
   "id": "120357dc",
   "metadata": {},
   "outputs": [],
   "source": [
    "# JOIN(LEFT&RIGHT)\n",
    "left = pd.DataFrame({'A': [1,2], 'B': [3,4], 'C': [2,3]})"
   ]
  },
  {
   "cell_type": "code",
   "execution_count": 31,
   "id": "ae386f08",
   "metadata": {},
   "outputs": [],
   "source": [
    "right = pd.DataFrame({'A': [3,2], 'D': [4,5], 'C':[2,4]})"
   ]
  },
  {
   "cell_type": "code",
   "execution_count": 32,
   "id": "3ff643a8",
   "metadata": {},
   "outputs": [
    {
     "data": {
      "text/html": [
       "<div>\n",
       "<style scoped>\n",
       "    .dataframe tbody tr th:only-of-type {\n",
       "        vertical-align: middle;\n",
       "    }\n",
       "\n",
       "    .dataframe tbody tr th {\n",
       "        vertical-align: top;\n",
       "    }\n",
       "\n",
       "    .dataframe thead th {\n",
       "        text-align: right;\n",
       "    }\n",
       "</style>\n",
       "<table border=\"1\" class=\"dataframe\">\n",
       "  <thead>\n",
       "    <tr style=\"text-align: right;\">\n",
       "      <th></th>\n",
       "      <th>A</th>\n",
       "      <th>B</th>\n",
       "      <th>C</th>\n",
       "    </tr>\n",
       "  </thead>\n",
       "  <tbody>\n",
       "    <tr>\n",
       "      <th>0</th>\n",
       "      <td>1</td>\n",
       "      <td>3</td>\n",
       "      <td>2</td>\n",
       "    </tr>\n",
       "    <tr>\n",
       "      <th>1</th>\n",
       "      <td>2</td>\n",
       "      <td>4</td>\n",
       "      <td>3</td>\n",
       "    </tr>\n",
       "  </tbody>\n",
       "</table>\n",
       "</div>"
      ],
      "text/plain": [
       "   A  B  C\n",
       "0  1  3  2\n",
       "1  2  4  3"
      ]
     },
     "execution_count": 32,
     "metadata": {},
     "output_type": "execute_result"
    }
   ],
   "source": [
    "left"
   ]
  },
  {
   "cell_type": "code",
   "execution_count": null,
   "id": "be36208a",
   "metadata": {},
   "outputs": [],
   "source": [
    "right"
   ]
  },
  {
   "cell_type": "code",
   "execution_count": 33,
   "id": "10b687d2",
   "metadata": {},
   "outputs": [
    {
     "data": {
      "text/html": [
       "<div>\n",
       "<style scoped>\n",
       "    .dataframe tbody tr th:only-of-type {\n",
       "        vertical-align: middle;\n",
       "    }\n",
       "\n",
       "    .dataframe tbody tr th {\n",
       "        vertical-align: top;\n",
       "    }\n",
       "\n",
       "    .dataframe thead th {\n",
       "        text-align: right;\n",
       "    }\n",
       "</style>\n",
       "<table border=\"1\" class=\"dataframe\">\n",
       "  <thead>\n",
       "    <tr style=\"text-align: right;\">\n",
       "      <th></th>\n",
       "      <th>A_x</th>\n",
       "      <th>B</th>\n",
       "      <th>C</th>\n",
       "      <th>A_y</th>\n",
       "      <th>D</th>\n",
       "    </tr>\n",
       "  </thead>\n",
       "  <tbody>\n",
       "    <tr>\n",
       "      <th>0</th>\n",
       "      <td>1</td>\n",
       "      <td>3</td>\n",
       "      <td>2</td>\n",
       "      <td>3</td>\n",
       "      <td>4</td>\n",
       "    </tr>\n",
       "  </tbody>\n",
       "</table>\n",
       "</div>"
      ],
      "text/plain": [
       "   A_x  B  C  A_y  D\n",
       "0    1  3  2    3  4"
      ]
     },
     "execution_count": 33,
     "metadata": {},
     "output_type": "execute_result"
    }
   ],
   "source": [
    "pd.merge(left,right, on='C')"
   ]
  },
  {
   "cell_type": "code",
   "execution_count": null,
   "id": "769643e6",
   "metadata": {},
   "outputs": [],
   "source": []
  }
 ],
 "metadata": {
  "kernelspec": {
   "display_name": "Python 3 (ipykernel)",
   "language": "python",
   "name": "python3"
  },
  "language_info": {
   "codemirror_mode": {
    "name": "ipython",
    "version": 3
   },
   "file_extension": ".py",
   "mimetype": "text/x-python",
   "name": "python",
   "nbconvert_exporter": "python",
   "pygments_lexer": "ipython3",
   "version": "3.7.8"
  }
 },
 "nbformat": 4,
 "nbformat_minor": 5
}
