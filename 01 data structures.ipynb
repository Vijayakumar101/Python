{
 "cells": [
  {
   "cell_type": "markdown",
   "id": "ad8af1b3",
   "metadata": {},
   "source": [
    "# Deque"
   ]
  },
  {
   "cell_type": "markdown",
   "id": "ef02b2a6",
   "metadata": {},
   "source": [
    "Deque (Doubly Ended Queue) in Python is implemented using the module “collections“. Deque is preferred over a list in the cases where we need quicker append and pop operations from both the ends of the container, as deque provides an O(1) time complexity for append and pop operations as compared to a list that provides O(n) time complexity."
   ]
  },
  {
   "cell_type": "code",
   "execution_count": 1,
   "id": "8173b248",
   "metadata": {},
   "outputs": [
    {
     "name": "stdout",
     "output_type": "stream",
     "text": [
      "deque(['name', 'age', 'DOB'])\n"
     ]
    }
   ],
   "source": [
    "from collections import deque \n",
    "      \n",
    "# Declaring deque \n",
    "queue = deque(['name','age','DOB'])  \n",
    "      \n",
    "print(queue)"
   ]
  },
  {
   "cell_type": "code",
   "execution_count": 2,
   "id": "714fa058",
   "metadata": {},
   "outputs": [
    {
     "data": {
      "text/plain": [
       "collections.deque"
      ]
     },
     "execution_count": 2,
     "metadata": {},
     "output_type": "execute_result"
    }
   ],
   "source": [
    "type(queue)"
   ]
  },
  {
   "cell_type": "code",
   "execution_count": 4,
   "id": "26268dbb",
   "metadata": {},
   "outputs": [],
   "source": [
    "list1 = [2,3,2,4,5,6,7,8]"
   ]
  },
  {
   "cell_type": "code",
   "execution_count": 9,
   "id": "cfbadc6a",
   "metadata": {},
   "outputs": [],
   "source": [
    "a = {}\n",
    "for i in list1:\n",
    "    if i in a.keys():\n",
    "        a[i]+=1\n",
    "    else:\n",
    "        #a[i]=1\n",
    "        pass\n",
    "\n",
    "    "
   ]
  },
  {
   "cell_type": "code",
   "execution_count": 11,
   "id": "e5326a63",
   "metadata": {},
   "outputs": [],
   "source": [
    "b = {'name':'riyaz'}"
   ]
  },
  {
   "cell_type": "code",
   "execution_count": 12,
   "id": "99d41af5",
   "metadata": {},
   "outputs": [
    {
     "ename": "SyntaxError",
     "evalue": "invalid syntax (<ipython-input-12-b0e590c349df>, line 1)",
     "output_type": "error",
     "traceback": [
      "\u001b[0;36m  File \u001b[0;32m\"<ipython-input-12-b0e590c349df>\"\u001b[0;36m, line \u001b[0;32m1\u001b[0m\n\u001b[0;31m    b.append('age':27)\u001b[0m\n\u001b[0m                  ^\u001b[0m\n\u001b[0;31mSyntaxError\u001b[0m\u001b[0;31m:\u001b[0m invalid syntax\n"
     ]
    }
   ],
   "source": [
    "b.append('age':27)"
   ]
  },
  {
   "cell_type": "code",
   "execution_count": null,
   "id": "f670c42b",
   "metadata": {},
   "outputs": [],
   "source": [
    "b.append(\"age\")"
   ]
  },
  {
   "cell_type": "code",
   "execution_count": 15,
   "id": "8e9e3ead",
   "metadata": {},
   "outputs": [],
   "source": [
    "b['age']=26"
   ]
  },
  {
   "cell_type": "code",
   "execution_count": 16,
   "id": "cf8bd812",
   "metadata": {},
   "outputs": [
    {
     "data": {
      "text/plain": [
       "{'name': 'riyaz', 'age': 26}"
      ]
     },
     "execution_count": 16,
     "metadata": {},
     "output_type": "execute_result"
    }
   ],
   "source": [
    "b"
   ]
  },
  {
   "cell_type": "code",
   "execution_count": null,
   "id": "c51eaf01",
   "metadata": {},
   "outputs": [],
   "source": []
  },
  {
   "cell_type": "markdown",
   "id": "5d3771d2",
   "metadata": {},
   "source": [
    "append():- This function is used to insert the value in its argument to the right end of the deque.\n",
    "\n",
    "\n",
    "\n",
    "appendleft():- This function is used to insert the value in its argument to the left end of the deque."
   ]
  },
  {
   "cell_type": "code",
   "execution_count": 4,
   "id": "635b6a5b",
   "metadata": {},
   "outputs": [
    {
     "name": "stdout",
     "output_type": "stream",
     "text": [
      "deque:  deque([1, 2, 3])\n",
      "\n",
      "The deque after appending at right is : \n",
      "deque([1, 2, 3, 4])\n",
      "\n",
      "The deque after appending at left is : \n",
      "deque([6, 1, 2, 3, 4])\n"
     ]
    }
   ],
   "source": [
    "# importing \"collections\" for deque operations\n",
    "import collections\n",
    "\n",
    "# initializing deque\n",
    "de = collections.deque([1, 2, 3])\n",
    "print(\"deque: \", de)\n",
    "\n",
    "# using append() to insert element at right end\n",
    "# inserts 4 at the end of deque\n",
    "de.append(4)\n",
    "\n",
    "# printing modified deque\n",
    "print(\"\\nThe deque after appending at right is : \")\n",
    "print(de)\n",
    "\n",
    "# using appendleft() to insert element at left end\n",
    "# inserts 6 at the beginning of deque\n",
    "de.appendleft(6)\n",
    "\n",
    "# printing modified deque\n",
    "print(\"\\nThe deque after appending at left is : \")\n",
    "print(de)\n"
   ]
  },
  {
   "cell_type": "code",
   "execution_count": 5,
   "id": "494982a9",
   "metadata": {},
   "outputs": [
    {
     "name": "stdout",
     "output_type": "stream",
     "text": [
      "deque:  deque([6, 1, 2, 3, 4])\n",
      "\n",
      "The deque after deleting from right is : \n",
      "deque([6, 1, 2, 3])\n",
      "\n",
      "The deque after deleting from left is : \n",
      "deque([1, 2, 3])\n"
     ]
    }
   ],
   "source": [
    "# importing \"collections\" for deque operations\n",
    "import collections\n",
    "\n",
    "# initializing deque\n",
    "de = collections.deque([6, 1, 2, 3, 4])\n",
    "print(\"deque: \", de)\n",
    "\n",
    "# using pop() to delete element from right end\n",
    "# deletes 4 from the right end of deque\n",
    "de.pop()\n",
    "\n",
    "# printing modified deque\n",
    "print(\"\\nThe deque after deleting from right is : \")\n",
    "print(de)\n",
    "\n",
    "# using popleft() to delete element from left end\n",
    "# deletes 6 from the left end of deque\n",
    "de.popleft()\n",
    "\n",
    "# printing modified deque\n",
    "print(\"\\nThe deque after deleting from left is : \")\n",
    "print(de)\n"
   ]
  },
  {
   "cell_type": "code",
   "execution_count": 6,
   "id": "75d3b2e2",
   "metadata": {},
   "outputs": [
    {
     "name": "stdout",
     "output_type": "stream",
     "text": [
      "deque(['a', 'b', 'c', 'd', 'e'])\n",
      "2\n",
      "3\n",
      "deque(['a', 'b', 'uy', 'c', 'd', 'e'])\n"
     ]
    }
   ],
   "source": [
    "de = collections.deque([\"a\",\"b\",\"c\",\"d\",\"e\"])\n",
    "\n",
    "print(de)\n",
    "\n",
    "print (de.index(\"c\"))\n",
    "de.insert(2,'uy')\n",
    "print (de.index(\"c\"))\n",
    "print(de) "
   ]
  },
  {
   "cell_type": "code",
   "execution_count": 10,
   "id": "b7905fc0",
   "metadata": {},
   "outputs": [
    {
     "name": "stdout",
     "output_type": "stream",
     "text": [
      "The number 4 first occurs at a position : \n",
      "4\n",
      "The deque after inserting 3 at 5th position is : \n",
      "deque([1, 2, 3, 3, 3, 4, 2, 4])\n",
      "The count of 3 in deque is : \n",
      "3\n",
      "The deque after deleting first occurrence of 3 is : \n",
      "deque([1, 2, 3, 3, 4, 2, 4])\n"
     ]
    }
   ],
   "source": [
    "# Python code to demonstrate working of\n",
    "# insert(), index(), remove(), count()\n",
    "\n",
    "# importing \"collections\" for deque operations\n",
    "import collections\n",
    "\n",
    "# initializing deque\n",
    "de = collections.deque([1, 2, 3, 3, 4, 2, 4])\n",
    "\n",
    "# using index() to print the first occurrence of 4\n",
    "print (\"The number 4 first occurs at a position : \")\n",
    "print (de.index(4))\n",
    "\n",
    "# using insert() to insert the value 3 at 5th position\n",
    "de.insert(4,3)\n",
    "\n",
    "# printing modified deque\n",
    "print (\"The deque after inserting 3 at 5th position is : \")\n",
    "print (de)\n",
    "\n",
    "# using count() to count the occurrences of 3\n",
    "print (\"The count of 3 in deque is : \")\n",
    "print (de.count(3))\n",
    "\n",
    "# using remove() to remove the first occurrence of 3\n",
    "de.remove(3)\n",
    "\n",
    "# printing modified deque\n",
    "print (\"The deque after deleting first occurrence of 3 is : \")\n",
    "print (de)\n",
    "\n"
   ]
  },
  {
   "cell_type": "markdown",
   "id": "fcd99eb2",
   "metadata": {},
   "source": [
    "# Namedtuple"
   ]
  },
  {
   "cell_type": "code",
   "execution_count": 3,
   "id": "7b8336c4",
   "metadata": {},
   "outputs": [
    {
     "name": "stdout",
     "output_type": "stream",
     "text": [
      "The Student age using index is : 19\n",
      "The Student name using keyname is : Nandini\n"
     ]
    }
   ],
   "source": [
    "# Python code to demonstrate namedtuple()\n",
    "\n",
    "from collections import namedtuple\n",
    "\n",
    "# Declaring namedtuple()\n",
    "Student = namedtuple('Student', ['name', 'age', 'DOB'])\n",
    "\n",
    "# Adding values\n",
    "S = Student('Nandini', '19', '2541997')\n",
    "J = Student('Riyaz',20,'10021996')\n",
    "\n",
    "# Access using index\n",
    "print(\"The Student age using index is : \", end=\"\")\n",
    "print(S[1])\n",
    "\n",
    "# Access using name\n",
    "print(\"The Student name using keyname is : \", end=\"\")\n",
    "print(S.name)\n"
   ]
  },
  {
   "cell_type": "code",
   "execution_count": 4,
   "id": "c2343038",
   "metadata": {},
   "outputs": [
    {
     "name": "stdout",
     "output_type": "stream",
     "text": [
      "The Student age using index is : Nandini\n",
      "The Student name using keyname is : Nandini\n",
      "The Student DOB using getattr() is : 2541997\n",
      "Riyaz\n"
     ]
    }
   ],
   "source": [
    "# Python code to demonstrate namedtuple() and\n",
    "# Access by name, index and getattr()\n",
    "\n",
    "# importing \"collections\" for namedtuple()\n",
    "import collections\n",
    "\n",
    "# Declaring namedtuple()\n",
    "Student = collections.namedtuple('Student', ['name', 'age', 'DOB'])\n",
    "\n",
    "# Adding values\n",
    "S = Student('Nandini', '19', '2541997')\n",
    "B = Student('Riyaz', '26', '10021996')\n",
    "\n",
    "# Access using index\n",
    "print(\"The Student age using index is : \", end=\"\")\n",
    "print(S[0])\n",
    "\n",
    "# Access using name\n",
    "print(\"The Student name using keyname is : \", end=\"\")\n",
    "print(S.name)\n",
    "\n",
    "# Access using getattr()\n",
    "print(\"The Student DOB using getattr() is : \", end=\"\")\n",
    "print(getattr(S, 'DOB'))\n",
    "print(B.name)\n"
   ]
  },
  {
   "cell_type": "code",
   "execution_count": 18,
   "id": "26e4716f",
   "metadata": {},
   "outputs": [
    {
     "name": "stdout",
     "output_type": "stream",
     "text": [
      "2541997\n"
     ]
    }
   ],
   "source": [
    "print(S.DOB)"
   ]
  },
  {
   "cell_type": "code",
   "execution_count": 11,
   "id": "b928af17",
   "metadata": {},
   "outputs": [
    {
     "data": {
      "text/plain": [
       "'Manjeet'"
      ]
     },
     "execution_count": 11,
     "metadata": {},
     "output_type": "execute_result"
    }
   ],
   "source": [
    "Student = collections.namedtuple('Student',['name', 'age', 'DOB'])\n",
    "\n",
    "li = ['Manjeet', '19', '411997']\n",
    "\n",
    "\n",
    "G= Student._make(li)\n",
    "\n",
    "\n",
    "G.name\n"
   ]
  },
  {
   "cell_type": "code",
   "execution_count": 3,
   "id": "55ee8e6c",
   "metadata": {},
   "outputs": [
    {
     "name": "stdout",
     "output_type": "stream",
     "text": [
      "The namedtuple student instance using iterable is : \n",
      "Student(name='Manjeet', age='19', DOB='411997')\n",
      "The OrderedDict instance using namedtuple is : \n",
      "{'name': 'Nandini', 'age': '19', 'DOB': '2541997'}\n",
      "The namedtuple instance from dict is : \n",
      "Student(name='Nikhil', age=19, DOB='1391997')\n"
     ]
    }
   ],
   "source": [
    "# Python code to demonstrate namedtuple() and\n",
    "# _make(), _asdict() and \"**\" operator\n",
    "\n",
    "# importing \"collections\" for namedtuple()\n",
    "import collections\n",
    "\n",
    "# Declaring namedtuple()\n",
    "Student = collections.namedtuple('Student',['name', 'age', 'DOB'])\n",
    "\n",
    "# Adding values\n",
    "S = Student('Nandini', '19', '2541997')\n",
    "\n",
    "# initializing iterable\n",
    "li = ['Manjeet', '19', '411997']\n",
    "\n",
    "# initializing dict\n",
    "di = {'name': \"Nikhil\", 'age': 19, 'DOB': '1391997'}\n",
    "\n",
    "# using _make() to return namedtuple()\n",
    "print(\"The namedtuple student instance using iterable is : \")\n",
    "print(Student._make(li))\n",
    "\n",
    "# using _asdict() to return an OrderedDict()\n",
    "print(\"The OrderedDict instance using namedtuple is : \")\n",
    "print(S._asdict())\n",
    "\n",
    "# using ** operator to return namedtuple from dictionary\n",
    "print(\"The namedtuple instance from dict is : \")\n",
    "print(Student(**di))\n"
   ]
  },
  {
   "cell_type": "code",
   "execution_count": 16,
   "id": "44a2261a",
   "metadata": {},
   "outputs": [
    {
     "name": "stdout",
     "output_type": "stream",
     "text": [
      "Student(name='Nandini', age='19', DOB='2541997')\n",
      "Student(name='Manjeet', age='19', DOB='411997')\n",
      "Student(name='Nikhil', age=19, DOB='1391997')\n"
     ]
    }
   ],
   "source": [
    "Student = collections.namedtuple('Student',['name', 'age', 'DOB'])\n",
    "\n",
    "# Adding values\n",
    "S = Student('Nandini', '19', '2541997')\n",
    "\n",
    "print(S)\n",
    "li = ['Manjeet', '19', '411997']\n",
    "di = {'name': \"Nikhil\", 'age': 19, 'DOB': '1391997'}\n",
    "\n",
    "print(Student._make(li))\n",
    "print(Student(**di))\n"
   ]
  },
  {
   "cell_type": "code",
   "execution_count": 21,
   "id": "d82d2835",
   "metadata": {},
   "outputs": [
    {
     "name": "stdout",
     "output_type": "stream",
     "text": [
      "Student(name='Nandini', age='19', DOB='2541997')\n",
      "{'name': 'Nandini', 'age': '19', 'DOB': '2541997'}\n"
     ]
    }
   ],
   "source": [
    "print(S)\n",
    "print(S._asdict())"
   ]
  },
  {
   "cell_type": "markdown",
   "id": "fef0111b",
   "metadata": {},
   "source": [
    "# ChainMap"
   ]
  },
  {
   "cell_type": "markdown",
   "id": "77b2a3cd",
   "metadata": {},
   "source": [
    "Python contains a container called “ChainMap” which encapsulates many dictionaries into one unit. ChainMap is member of module “collections“."
   ]
  },
  {
   "cell_type": "code",
   "execution_count": 20,
   "id": "148f0c80",
   "metadata": {},
   "outputs": [
    {
     "name": "stdout",
     "output_type": "stream",
     "text": [
      "ChainMap({'a': 1, 'b': 2}, {'c': 3, 'd': 4}, {'e': 5, 'f': 6})\n"
     ]
    }
   ],
   "source": [
    "# Python program to demonstrate\n",
    "# ChainMap\n",
    "\n",
    "\n",
    "from collections import ChainMap\n",
    "\n",
    "d1 = {'a': 1, 'b': 2}\n",
    "d2 = {'c': 3, 'd': 4}\n",
    "d3 = {'e': 5, 'f': 6}\n",
    "\t\n",
    "# Defining the chainmap\n",
    "c = ChainMap(d1, d2, d3)\n",
    "\n",
    "print(c)\n"
   ]
  },
  {
   "cell_type": "code",
   "execution_count": 3,
   "id": "017ee32c",
   "metadata": {},
   "outputs": [
    {
     "name": "stdout",
     "output_type": "stream",
     "text": [
      "All the ChainMap contents are : \n",
      "[{'Name': 'Riyaz', 'age': 27}, {'education': 'B.E', 'exp': 5, 'Name': 'Muhammed'}]\n",
      "All keys of ChainMap are : \n",
      "['education', 'exp', 'Name', 'age']\n",
      "All values of ChainMap are : \n",
      "['B.E', 5, 'Riyaz', 27]\n",
      "Riyaz\n"
     ]
    }
   ],
   "source": [
    "# Please select Python 3 for running this code in IDE\n",
    "# Python code to demonstrate ChainMap and\n",
    "# keys(), values() and maps\n",
    "\n",
    "# importing collections for ChainMap operations\n",
    "import collections\n",
    "\n",
    "# initializing dictionaries\n",
    "dic1 = { 'Name' : 'Riyaz', 'age' : 27 }\n",
    "dic2 = { 'education' : 'B.E', 'exp' : 5 ,'Name':'Muhammed'}\n",
    "\n",
    "# initializing ChainMap\n",
    "chain = collections.ChainMap(dic1, dic2)\n",
    "\n",
    "# printing chainMap using maps\n",
    "print (\"All the ChainMap contents are : \")\n",
    "print (chain.maps)\n",
    "\n",
    "# printing keys using keys()\n",
    "print (\"All keys of ChainMap are : \")\n",
    "print (list(chain.keys()))\n",
    "\n",
    "# printing keys using keys()\n",
    "print (\"All values of ChainMap are : \")\n",
    "print (list(chain.values()))\n",
    "\n",
    "print(chain['Name'])"
   ]
  },
  {
   "cell_type": "code",
   "execution_count": 2,
   "id": "790a3c40",
   "metadata": {},
   "outputs": [
    {
     "name": "stdout",
     "output_type": "stream",
     "text": [
      "All the ChainMap contents are : \n",
      "[{'a': 1, 'b': 2}, {'b': 3, 'c': 4}]\n",
      "Displaying new ChainMap : \n",
      "[{'f': 5}, {'a': 1, 'b': 2}, {'b': 3, 'c': 4}]\n",
      "Value associated with b before reversing is : 2\n",
      "Value associated with b after reversing is : 3\n"
     ]
    }
   ],
   "source": [
    "# Please select Python 3 for running this code in IDE\n",
    "# Python code to demonstrate ChainMap and\n",
    "# reversed() and new_child()\n",
    "\n",
    "# importing collections for ChainMap operations\n",
    "import collections\n",
    "\n",
    "# initializing dictionaries\n",
    "dic1 = { 'a' : 1, 'b' : 2 }\n",
    "dic2 = { 'b' : 3, 'c' : 4 }\n",
    "dic3 = { 'f' : 5 }\n",
    "\n",
    "# initializing ChainMap\n",
    "chain = collections.ChainMap(dic1, dic2)\n",
    "\n",
    "# printing chainMap using map\n",
    "print (\"All the ChainMap contents are : \")\n",
    "print (chain.maps)\n",
    "\n",
    "# using new_child() to add new dictionary\n",
    "chain1 = chain.new_child(dic3)\n",
    "\n",
    "# printing chainMap using map\n",
    "print (\"Displaying new ChainMap : \")\n",
    "print (chain1.maps)\n",
    "\n",
    "# displaying value associated with b before reversing\n",
    "print (\"Value associated with b before reversing is : \",end=\"\")\n",
    "print (chain1['b'])\n",
    "\n",
    "# reversing the ChainMap\n",
    "chain1.maps = reversed(chain1.maps)\n",
    "\n",
    "# displaying value associated with b after reversing\n",
    "print (\"Value associated with b after reversing is : \",end=\"\")\n",
    "print (chain1['b'])\n"
   ]
  },
  {
   "cell_type": "markdown",
   "id": "30c30d82",
   "metadata": {},
   "source": [
    "# Defaultdict"
   ]
  },
  {
   "cell_type": "code",
   "execution_count": 4,
   "id": "9611dc35",
   "metadata": {},
   "outputs": [
    {
     "name": "stdout",
     "output_type": "stream",
     "text": [
      "Dictionary:\n",
      "{1: 'apple', 2: 'orange', 3: 'banana'}\n",
      "apple\n"
     ]
    },
    {
     "ename": "KeyError",
     "evalue": "4",
     "output_type": "error",
     "traceback": [
      "\u001b[0;31m---------------------------------------------------------------------------\u001b[0m",
      "\u001b[0;31mKeyError\u001b[0m                                  Traceback (most recent call last)",
      "\u001b[0;32m<ipython-input-4-4db9cd24dcab>\u001b[0m in \u001b[0;36m<module>\u001b[0;34m\u001b[0m\n\u001b[1;32m      7\u001b[0m \u001b[0mprint\u001b[0m\u001b[0;34m(\u001b[0m\u001b[0mDict\u001b[0m\u001b[0;34m)\u001b[0m\u001b[0;34m\u001b[0m\u001b[0;34m\u001b[0m\u001b[0m\n\u001b[1;32m      8\u001b[0m \u001b[0mprint\u001b[0m\u001b[0;34m(\u001b[0m\u001b[0mDict\u001b[0m\u001b[0;34m[\u001b[0m\u001b[0;36m1\u001b[0m\u001b[0;34m]\u001b[0m\u001b[0;34m)\u001b[0m\u001b[0;34m\u001b[0m\u001b[0;34m\u001b[0m\u001b[0m\n\u001b[0;32m----> 9\u001b[0;31m \u001b[0mprint\u001b[0m\u001b[0;34m(\u001b[0m\u001b[0mDict\u001b[0m\u001b[0;34m[\u001b[0m\u001b[0;36m4\u001b[0m\u001b[0;34m]\u001b[0m\u001b[0;34m)\u001b[0m\u001b[0;34m\u001b[0m\u001b[0;34m\u001b[0m\u001b[0m\n\u001b[0m\u001b[1;32m     10\u001b[0m \u001b[0;31m# Uncommenting this print(Dict[4])\u001b[0m\u001b[0;34m\u001b[0m\u001b[0;34m\u001b[0m\u001b[0;34m\u001b[0m\u001b[0m\n\u001b[1;32m     11\u001b[0m \u001b[0;31m# will raise a KeyError as the\u001b[0m\u001b[0;34m\u001b[0m\u001b[0;34m\u001b[0m\u001b[0;34m\u001b[0m\u001b[0m\n",
      "\u001b[0;31mKeyError\u001b[0m: 4"
     ]
    }
   ],
   "source": [
    "# Python program to demonstrate\n",
    "# dictionary\n",
    "\n",
    "\n",
    "Dict = {1: 'apple', 2: 'orange', 3: 'banana'}\n",
    "print(\"Dictionary:\")\n",
    "print(Dict)\n",
    "print(Dict[1])\n",
    "print(Dict[4])\n",
    "# Uncommenting this print(Dict[4])\n",
    "# will raise a KeyError as the\n",
    "# 4 is not present in the dictionary\n"
   ]
  },
  {
   "cell_type": "markdown",
   "id": "47ee0764",
   "metadata": {},
   "source": [
    "Defaultdict is a container like dictionaries present in the module collections. Defaultdict is a sub-class of the dictionary class that returns a dictionary-like object. The functionality of both dictionaries and defaultdict are almost same except for the fact that defaultdict never raises a KeyError. It provides a default value for the key that does not exists."
   ]
  },
  {
   "cell_type": "code",
   "execution_count": 5,
   "id": "9619639f",
   "metadata": {},
   "outputs": [
    {
     "name": "stdout",
     "output_type": "stream",
     "text": [
      "1\n",
      "2\n",
      "Riyaz\n",
      "Not Present\n",
      "defaultdict(<function def_value at 0x7fad185cf160>, {'a': 1, 'b': 2, 'name': 'Riyaz', 'riyaz': 'Not Present'})\n"
     ]
    }
   ],
   "source": [
    "# Python program to demonstrate\n",
    "# defaultdict\n",
    "\n",
    "\n",
    "from collections import defaultdict\n",
    "\n",
    "\n",
    "# Function to return a default\n",
    "# values for keys that is not\n",
    "# present\n",
    "def def_value():\n",
    "\treturn \"Not Present\"\n",
    "\t\n",
    "# Defining the dict\n",
    "d = defaultdict(def_value)\n",
    "d[\"a\"] = 1\n",
    "d[\"b\"] = 2\n",
    "d[\"name\"] = \"Riyaz\"\n",
    "\n",
    "print(d[\"a\"])\n",
    "print(d[\"b\"])\n",
    "print(d[\"name\"])\n",
    "print(d[\"riyaz\"])\n",
    "print(d)\n"
   ]
  },
  {
   "cell_type": "code",
   "execution_count": 36,
   "id": "16dfb84b",
   "metadata": {},
   "outputs": [
    {
     "name": "stdout",
     "output_type": "stream",
     "text": [
      "1\n",
      "2\n",
      "Not Present\n"
     ]
    }
   ],
   "source": [
    "# Python program to demonstrate\n",
    "# default_factory argument of\n",
    "# defaultdict\n",
    "\n",
    "\n",
    "from collections import defaultdict\n",
    "\n",
    "\t\n",
    "# Defining the dict and passing\n",
    "# lambda as default_factory argument\n",
    "d = defaultdict(lambda: \"Not Present\")\n",
    "d[\"a\"] = 1\n",
    "d[\"b\"] = 2\n",
    "\n",
    "print(d[\"a\"])\n",
    "print(d[\"b\"])\n",
    "print(d[\"c\"])\n"
   ]
  },
  {
   "cell_type": "code",
   "execution_count": 27,
   "id": "67e1d309",
   "metadata": {},
   "outputs": [
    {
     "name": "stdout",
     "output_type": "stream",
     "text": [
      "Dictionary with values as list:\n",
      "defaultdict(<class 'list'>, {0: [0], 1: [1], 2: [2], 3: [3], 4: [4]})\n",
      "[4]\n",
      "[]\n"
     ]
    },
    {
     "data": {
      "text/plain": [
       "[]"
      ]
     },
     "execution_count": 27,
     "metadata": {},
     "output_type": "execute_result"
    }
   ],
   "source": [
    "# Python program to demonstrate\n",
    "# defaultdict\n",
    "\n",
    "\n",
    "from collections import defaultdict\n",
    "\n",
    "\n",
    "# Defining a dict\n",
    "d = defaultdict(list)\n",
    "\n",
    "for i in range(5):\n",
    "\td[i].append(i)\n",
    "\t\n",
    "print(\"Dictionary with values as list:\")\n",
    "print(d)\n",
    "print(d[4])\n",
    "print(d[5])\n",
    "d[67]\n"
   ]
  },
  {
   "cell_type": "code",
   "execution_count": 50,
   "id": "3cc35346",
   "metadata": {},
   "outputs": [
    {
     "name": "stdout",
     "output_type": "stream",
     "text": [
      "defaultdict(<class 'int'>, {1: 2, 2: 3, 3: 1, 4: 2})\n",
      "0\n"
     ]
    }
   ],
   "source": [
    "# Python program to demonstrate\n",
    "# defaultdict\n",
    "\n",
    "\n",
    "from collections import defaultdict\n",
    "\n",
    "\n",
    "# Defining the dict\n",
    "d = defaultdict(int)\n",
    "\n",
    "L = [1, 2, 3, 4, 2, 4, 1, 2]\n",
    "\n",
    "# Iterate through the list\n",
    "# for keeping the count\n",
    "for i in L:\n",
    "    d[i] += 1\n",
    "\n",
    "print(d)    \n",
    "print(d[5])\n"
   ]
  },
  {
   "cell_type": "markdown",
   "id": "fea4a2ed",
   "metadata": {},
   "source": [
    "# OrderedDict"
   ]
  },
  {
   "cell_type": "code",
   "execution_count": 10,
   "id": "a4a66b23",
   "metadata": {},
   "outputs": [
    {
     "name": "stdout",
     "output_type": "stream",
     "text": [
      "This is a Dict:\n",
      "\n",
      "a 1\n",
      "b 2\n",
      "c 3\n",
      "d 4\n",
      "\n",
      "This is an Ordered Dict:\n",
      "\n",
      "a 1\n",
      "b 2\n",
      "c 3\n",
      "d 4\n"
     ]
    }
   ],
   "source": [
    "# A Python program to demonstrate working of OrderedDict\n",
    "from collections import OrderedDict\n",
    "\n",
    "print(\"This is a Dict:\\n\")\n",
    "d = {}\n",
    "d['a'] = 1\n",
    "d['b'] = 2\n",
    "d['c'] = 3\n",
    "d['d'] = 4\n",
    "\n",
    "for key, value in d.items():\n",
    "\tprint(key, value)\n",
    "\n",
    "print(\"\\nThis is an Ordered Dict:\\n\")\n",
    "od = OrderedDict()\n",
    "od['a'] = 1\n",
    "od['b'] = 2\n",
    "od['c'] = 3\n",
    "od['d'] = 4\n",
    "\n",
    "for key, value in od.items():\n",
    "\tprint(key, value)\n"
   ]
  },
  {
   "cell_type": "code",
   "execution_count": 9,
   "id": "8c0543df",
   "metadata": {},
   "outputs": [
    {
     "name": "stdout",
     "output_type": "stream",
     "text": [
      "0.5714025946899135\n"
     ]
    }
   ],
   "source": [
    "import random\n",
    "\n",
    "random.seed(10)\n",
    "print(random.random())"
   ]
  },
  {
   "cell_type": "code",
   "execution_count": 41,
   "id": "c43e5097",
   "metadata": {},
   "outputs": [
    {
     "name": "stdout",
     "output_type": "stream",
     "text": [
      "Before:\n",
      "\n",
      "a 1\n",
      "v 2\n",
      "c 3\n",
      "d 4\n",
      "\n",
      "After:\n",
      "\n",
      "a 1\n",
      "v 2\n",
      "c 5\n",
      "d 4\n"
     ]
    }
   ],
   "source": [
    "# A Python program to demonstrate working of key\n",
    "# value change in OrderedDict\n",
    "from collections import OrderedDict\n",
    "\n",
    "print(\"Before:\\n\")\n",
    "od = OrderedDict()\n",
    "od['a'] = 1\n",
    "od['v'] = 2\n",
    "od['c'] = 3\n",
    "od['d'] = 4\n",
    "for key, value in od.items():\n",
    "\tprint(key, value)\n",
    "\n",
    "print(\"\\nAfter:\\n\")\n",
    "od['c'] = 5\n",
    "for key, value in od.items():\n",
    "\tprint(key, value)\n"
   ]
  },
  {
   "cell_type": "code",
   "execution_count": 40,
   "id": "2d03856c",
   "metadata": {},
   "outputs": [
    {
     "name": "stdout",
     "output_type": "stream",
     "text": [
      "Before:\n",
      "\n",
      "a 1\n",
      "v 2\n",
      "c 3\n",
      "d 4\n",
      "\n",
      "After:\n",
      "\n",
      "a 1\n",
      "v 2\n",
      "c 5\n",
      "d 4\n"
     ]
    }
   ],
   "source": [
    "# A Python program to demonstrate working of key\n",
    "# value change in OrderedDict\n",
    "from collections import OrderedDict\n",
    "\n",
    "print(\"Before:\\n\")\n",
    "od = OrderedDict()\n",
    "od['a'] = 1\n",
    "od['v'] = 2\n",
    "od['c'] = 3\n",
    "od['d'] = 4\n",
    "for key, value in od.items():\n",
    "\tprint(key, value)\n",
    "\n",
    "print(\"\\nAfter:\\n\")\n",
    "od['c'] = 5\n",
    "for key, value in od.items():\n",
    "\tprint(key, value)\n"
   ]
  },
  {
   "cell_type": "code",
   "execution_count": 3,
   "id": "11411d2b",
   "metadata": {},
   "outputs": [
    {
     "name": "stdout",
     "output_type": "stream",
     "text": [
      "Before deleting:\n",
      "\n",
      "a 1\n",
      "b 2\n",
      "c 3\n",
      "d 4\n",
      "\n",
      "After deleting:\n",
      "\n",
      "a 1\n",
      "b 2\n",
      "d 4\n",
      "\n",
      "After re-inserting:\n",
      "\n",
      "a 1\n",
      "b 2\n",
      "d 4\n",
      "c 3\n"
     ]
    }
   ],
   "source": [
    "# A Python program to demonstrate working of deletion\n",
    "# re-insertion in OrderedDict\n",
    "from collections import OrderedDict\n",
    "\n",
    "print(\"Before deleting:\\n\")\n",
    "od = OrderedDict()\n",
    "od['a'] = 1\n",
    "od['b'] = 2\n",
    "od['c'] = 3\n",
    "od['d'] = 4\n",
    "\n",
    "for key, value in od.items():\n",
    "\tprint(key, value)\n",
    "\n",
    "print(\"\\nAfter deleting:\\n\")\n",
    "od.pop('c')\n",
    "for key, value in od.items():\n",
    "\tprint(key, value)\n",
    "\n",
    "print(\"\\nAfter re-inserting:\\n\")\n",
    "od['c'] = 3\n",
    "for key, value in od.items():\n",
    "\tprint(key, value)\n"
   ]
  },
  {
   "cell_type": "markdown",
   "id": "c6afc29e",
   "metadata": {},
   "source": [
    "# Counters"
   ]
  },
  {
   "cell_type": "markdown",
   "id": "cdbcf502",
   "metadata": {},
   "source": [
    "A Counter is a subclass of dict. Therefore it is an unordered collection where elements and their respective count are stored as a dictionary. This is equivalent to a bag or multiset of other languages."
   ]
  },
  {
   "cell_type": "code",
   "execution_count": 7,
   "id": "653db213",
   "metadata": {},
   "outputs": [
    {
     "name": "stdout",
     "output_type": "stream",
     "text": [
      "Counter({'B': 5, 'A': 3, 'C': 2})\n",
      "Counter({'B': 5, 'BBBBBB': 1})\n",
      "Counter({'B': 5, 'A': 3, 'C': 2})\n",
      "Counter({'B': 5, 'A': 3, 'C': 2})\n"
     ]
    }
   ],
   "source": [
    "# A Python program to show different ways to create\n",
    "# Counter\n",
    "from collections import Counter\n",
    "\n",
    "# With sequence of items\n",
    "print(Counter(['B','B','A','B','C','A','B','B','A','C']))\n",
    "\n",
    "print(Counter(['B','B','B','B','B','BBBBBB']))\n",
    "\n",
    "# with dictionary\n",
    "print(Counter({'A':3, 'B':5, 'C':2}))\n",
    "\n",
    "# with keyword arguments\n",
    "print(Counter(A=3, B=5, C=2))\n"
   ]
  },
  {
   "cell_type": "code",
   "execution_count": 6,
   "id": "fa1bb7e3",
   "metadata": {},
   "outputs": [
    {
     "name": "stdout",
     "output_type": "stream",
     "text": [
      "Counter({1: 4, 2: 3, 3: 1})\n",
      "Counter({1: 5, 2: 4, 3: 1, 4: 1})\n"
     ]
    }
   ],
   "source": [
    "# A Python program to demonstrate update()\n",
    "from collections import Counter\n",
    "coun = Counter()\n",
    "\n",
    "coun.update([1, 2, 3, 1, 2, 1, 1, 2])\n",
    "print(coun)\n",
    "\n",
    "coun.update([1, 2, 4])\n",
    "print(coun)\n"
   ]
  },
  {
   "cell_type": "code",
   "execution_count": 9,
   "id": "267845da",
   "metadata": {},
   "outputs": [
    {
     "name": "stdout",
     "output_type": "stream",
     "text": [
      "Counter({'C': 6, 'B': 0, 'A': -6})\n"
     ]
    }
   ],
   "source": [
    "# Python program to demonstrate that counts in\n",
    "# Counter can be 0 and negative\n",
    "from collections import Counter\n",
    "\n",
    "c1 = Counter(A=4, B=3, C=10)\n",
    "c2 = Counter(A=10, B=3, C=4)\n",
    "\n",
    "#c1.update(c2)\n",
    "\n",
    "c1.subtract(c2)\n",
    "print(c1)\n"
   ]
  },
  {
   "cell_type": "code",
   "execution_count": 7,
   "id": "08ed4f03",
   "metadata": {},
   "outputs": [
    {
     "name": "stdout",
     "output_type": "stream",
     "text": [
      "Counter({'blue': 3, 'red': 2, 'yellow': 1})\n"
     ]
    }
   ],
   "source": [
    "# An example program where different list items are\n",
    "# counted using counter\n",
    "from collections import Counter\n",
    "\n",
    "# Create a list\n",
    "z = ['blue', 'red', 'blue', 'yellow', 'blue', 'red']\n",
    "\n",
    "# Count distinct elements and print Counter aobject\n",
    "print(Counter(z))\n"
   ]
  },
  {
   "cell_type": "code",
   "execution_count": null,
   "id": "50556cd4",
   "metadata": {},
   "outputs": [],
   "source": []
  }
 ],
 "metadata": {
  "kernelspec": {
   "display_name": "Python 3",
   "language": "python",
   "name": "python3"
  },
  "language_info": {
   "codemirror_mode": {
    "name": "ipython",
    "version": 3
   },
   "file_extension": ".py",
   "mimetype": "text/x-python",
   "name": "python",
   "nbconvert_exporter": "python",
   "pygments_lexer": "ipython3",
   "version": "3.8.8"
  }
 },
 "nbformat": 4,
 "nbformat_minor": 5
}
